{
 "cells": [
  {
   "cell_type": "markdown",
   "metadata": {},
   "source": [
    "# Credit Card Fraud Detection\n",
    "\n",
    "Overview\n",
    "\n",
    "1. Data Exploration\n",
    "2. Resampling for Imbalanced Data\n",
    "3. Logistic Regression\n",
    "4. Decision Tree Classifier\n",
    "5. Random Forest Classifier\n",
    "6. Voting Classifier\n",
    "7. K-means Clustering\n",
    "8. BDS\n",
    "9. Autoencoder Neural Networks"
   ]
  },
  {
   "cell_type": "markdown",
   "metadata": {},
   "source": [
    "### 1. Data Analysis"
   ]
  },
  {
   "cell_type": "code",
   "execution_count": 1,
   "metadata": {},
   "outputs": [],
   "source": [
    "# Import packages\n",
    "\n",
    "%matplotlib inline\n",
    "import numpy as np\n",
    "import pandas as pd\n",
    "import sklearn\n",
    "import scipy\n",
    "import matplotlib.pyplot as plt\n",
    "import seaborn as sns\n",
    "from sklearn.metrics import classification_report,accuracy_score\n",
    "from sklearn.ensemble import IsolationForest\n",
    "from sklearn.neighbors import LocalOutlierFactor\n",
    "from sklearn.svm import OneClassSVM\n",
    "from pylab import rcParams\n",
    "sns.set(style='whitegrid')\n",
    "plt.style.use('ggplot')"
   ]
  },
  {
   "cell_type": "code",
   "execution_count": 2,
   "metadata": {},
   "outputs": [],
   "source": [
    "df = pd.read_csv('creditcard.csv')"
   ]
  },
  {
   "cell_type": "code",
   "execution_count": 3,
   "metadata": {},
   "outputs": [
    {
     "data": {
      "text/plain": [
       "(284807, 31)"
      ]
     },
     "execution_count": 3,
     "metadata": {},
     "output_type": "execute_result"
    }
   ],
   "source": [
    "df.shape"
   ]
  },
  {
   "cell_type": "code",
   "execution_count": 4,
   "metadata": {},
   "outputs": [
    {
     "name": "stdout",
     "output_type": "stream",
     "text": [
      "<class 'pandas.core.frame.DataFrame'>\n",
      "RangeIndex: 284807 entries, 0 to 284806\n",
      "Data columns (total 31 columns):\n",
      "Time      284807 non-null float64\n",
      "V1        284807 non-null float64\n",
      "V2        284807 non-null float64\n",
      "V3        284807 non-null float64\n",
      "V4        284807 non-null float64\n",
      "V5        284807 non-null float64\n",
      "V6        284807 non-null float64\n",
      "V7        284807 non-null float64\n",
      "V8        284807 non-null float64\n",
      "V9        284807 non-null float64\n",
      "V10       284807 non-null float64\n",
      "V11       284807 non-null float64\n",
      "V12       284807 non-null float64\n",
      "V13       284807 non-null float64\n",
      "V14       284807 non-null float64\n",
      "V15       284807 non-null float64\n",
      "V16       284807 non-null float64\n",
      "V17       284807 non-null float64\n",
      "V18       284807 non-null float64\n",
      "V19       284807 non-null float64\n",
      "V20       284807 non-null float64\n",
      "V21       284807 non-null float64\n",
      "V22       284807 non-null float64\n",
      "V23       284807 non-null float64\n",
      "V24       284807 non-null float64\n",
      "V25       284807 non-null float64\n",
      "V26       284807 non-null float64\n",
      "V27       284807 non-null float64\n",
      "V28       284807 non-null float64\n",
      "Amount    284807 non-null float64\n",
      "Class     284807 non-null int64\n",
      "dtypes: float64(30), int64(1)\n",
      "memory usage: 67.4 MB\n"
     ]
    }
   ],
   "source": [
    "df.info()"
   ]
  },
  {
   "cell_type": "code",
   "execution_count": 5,
   "metadata": {},
   "outputs": [
    {
     "data": {
      "text/html": [
       "<div>\n",
       "<style scoped>\n",
       "    .dataframe tbody tr th:only-of-type {\n",
       "        vertical-align: middle;\n",
       "    }\n",
       "\n",
       "    .dataframe tbody tr th {\n",
       "        vertical-align: top;\n",
       "    }\n",
       "\n",
       "    .dataframe thead th {\n",
       "        text-align: right;\n",
       "    }\n",
       "</style>\n",
       "<table border=\"1\" class=\"dataframe\">\n",
       "  <thead>\n",
       "    <tr style=\"text-align: right;\">\n",
       "      <th></th>\n",
       "      <th>Time</th>\n",
       "      <th>V1</th>\n",
       "      <th>V2</th>\n",
       "      <th>V3</th>\n",
       "      <th>V4</th>\n",
       "      <th>V5</th>\n",
       "      <th>V6</th>\n",
       "      <th>V7</th>\n",
       "      <th>V8</th>\n",
       "      <th>V9</th>\n",
       "      <th>...</th>\n",
       "      <th>V21</th>\n",
       "      <th>V22</th>\n",
       "      <th>V23</th>\n",
       "      <th>V24</th>\n",
       "      <th>V25</th>\n",
       "      <th>V26</th>\n",
       "      <th>V27</th>\n",
       "      <th>V28</th>\n",
       "      <th>Amount</th>\n",
       "      <th>Class</th>\n",
       "    </tr>\n",
       "  </thead>\n",
       "  <tbody>\n",
       "    <tr>\n",
       "      <td>282614</td>\n",
       "      <td>171022.0</td>\n",
       "      <td>-0.372061</td>\n",
       "      <td>1.032897</td>\n",
       "      <td>-0.986787</td>\n",
       "      <td>-0.227241</td>\n",
       "      <td>0.776753</td>\n",
       "      <td>-0.948557</td>\n",
       "      <td>0.452299</td>\n",
       "      <td>0.267329</td>\n",
       "      <td>-0.436515</td>\n",
       "      <td>...</td>\n",
       "      <td>0.393973</td>\n",
       "      <td>1.081508</td>\n",
       "      <td>-0.093005</td>\n",
       "      <td>-0.469723</td>\n",
       "      <td>-0.352815</td>\n",
       "      <td>-0.157339</td>\n",
       "      <td>-0.102716</td>\n",
       "      <td>0.040507</td>\n",
       "      <td>1.22</td>\n",
       "      <td>0</td>\n",
       "    </tr>\n",
       "    <tr>\n",
       "      <td>194542</td>\n",
       "      <td>130638.0</td>\n",
       "      <td>-1.211093</td>\n",
       "      <td>0.315449</td>\n",
       "      <td>2.006998</td>\n",
       "      <td>0.188692</td>\n",
       "      <td>-0.904556</td>\n",
       "      <td>-0.195202</td>\n",
       "      <td>-0.385284</td>\n",
       "      <td>0.663506</td>\n",
       "      <td>0.356213</td>\n",
       "      <td>...</td>\n",
       "      <td>0.164692</td>\n",
       "      <td>0.180145</td>\n",
       "      <td>-0.144656</td>\n",
       "      <td>0.007128</td>\n",
       "      <td>0.251691</td>\n",
       "      <td>-0.110506</td>\n",
       "      <td>-0.030427</td>\n",
       "      <td>-0.028278</td>\n",
       "      <td>62.85</td>\n",
       "      <td>0</td>\n",
       "    </tr>\n",
       "    <tr>\n",
       "      <td>85980</td>\n",
       "      <td>61028.0</td>\n",
       "      <td>-0.162717</td>\n",
       "      <td>-0.413915</td>\n",
       "      <td>0.955835</td>\n",
       "      <td>-2.008661</td>\n",
       "      <td>-0.816780</td>\n",
       "      <td>-0.376908</td>\n",
       "      <td>0.261608</td>\n",
       "      <td>-0.053868</td>\n",
       "      <td>-0.845128</td>\n",
       "      <td>...</td>\n",
       "      <td>-0.126412</td>\n",
       "      <td>-0.127613</td>\n",
       "      <td>0.121185</td>\n",
       "      <td>-0.433193</td>\n",
       "      <td>-0.389089</td>\n",
       "      <td>1.375730</td>\n",
       "      <td>-0.074849</td>\n",
       "      <td>0.026554</td>\n",
       "      <td>113.64</td>\n",
       "      <td>0</td>\n",
       "    </tr>\n",
       "    <tr>\n",
       "      <td>2019</td>\n",
       "      <td>1559.0</td>\n",
       "      <td>1.181015</td>\n",
       "      <td>0.183850</td>\n",
       "      <td>0.699030</td>\n",
       "      <td>0.700274</td>\n",
       "      <td>-0.595810</td>\n",
       "      <td>-0.839532</td>\n",
       "      <td>-0.038642</td>\n",
       "      <td>-0.073295</td>\n",
       "      <td>0.078477</td>\n",
       "      <td>...</td>\n",
       "      <td>-0.200933</td>\n",
       "      <td>-0.571252</td>\n",
       "      <td>0.238454</td>\n",
       "      <td>0.587858</td>\n",
       "      <td>0.057450</td>\n",
       "      <td>0.092996</td>\n",
       "      <td>-0.014880</td>\n",
       "      <td>0.019808</td>\n",
       "      <td>0.89</td>\n",
       "      <td>0</td>\n",
       "    </tr>\n",
       "    <tr>\n",
       "      <td>73479</td>\n",
       "      <td>55153.0</td>\n",
       "      <td>-0.806127</td>\n",
       "      <td>1.191230</td>\n",
       "      <td>2.097460</td>\n",
       "      <td>1.320051</td>\n",
       "      <td>0.480719</td>\n",
       "      <td>-0.069386</td>\n",
       "      <td>0.777809</td>\n",
       "      <td>0.067535</td>\n",
       "      <td>-1.186226</td>\n",
       "      <td>...</td>\n",
       "      <td>0.193235</td>\n",
       "      <td>0.419989</td>\n",
       "      <td>-0.454772</td>\n",
       "      <td>-0.121790</td>\n",
       "      <td>0.635479</td>\n",
       "      <td>0.121720</td>\n",
       "      <td>0.010920</td>\n",
       "      <td>0.061392</td>\n",
       "      <td>16.43</td>\n",
       "      <td>0</td>\n",
       "    </tr>\n",
       "  </tbody>\n",
       "</table>\n",
       "<p>5 rows × 31 columns</p>\n",
       "</div>"
      ],
      "text/plain": [
       "            Time        V1        V2        V3        V4        V5        V6  \\\n",
       "282614  171022.0 -0.372061  1.032897 -0.986787 -0.227241  0.776753 -0.948557   \n",
       "194542  130638.0 -1.211093  0.315449  2.006998  0.188692 -0.904556 -0.195202   \n",
       "85980    61028.0 -0.162717 -0.413915  0.955835 -2.008661 -0.816780 -0.376908   \n",
       "2019      1559.0  1.181015  0.183850  0.699030  0.700274 -0.595810 -0.839532   \n",
       "73479    55153.0 -0.806127  1.191230  2.097460  1.320051  0.480719 -0.069386   \n",
       "\n",
       "              V7        V8        V9  ...       V21       V22       V23  \\\n",
       "282614  0.452299  0.267329 -0.436515  ...  0.393973  1.081508 -0.093005   \n",
       "194542 -0.385284  0.663506  0.356213  ...  0.164692  0.180145 -0.144656   \n",
       "85980   0.261608 -0.053868 -0.845128  ... -0.126412 -0.127613  0.121185   \n",
       "2019   -0.038642 -0.073295  0.078477  ... -0.200933 -0.571252  0.238454   \n",
       "73479   0.777809  0.067535 -1.186226  ...  0.193235  0.419989 -0.454772   \n",
       "\n",
       "             V24       V25       V26       V27       V28  Amount  Class  \n",
       "282614 -0.469723 -0.352815 -0.157339 -0.102716  0.040507    1.22      0  \n",
       "194542  0.007128  0.251691 -0.110506 -0.030427 -0.028278   62.85      0  \n",
       "85980  -0.433193 -0.389089  1.375730 -0.074849  0.026554  113.64      0  \n",
       "2019    0.587858  0.057450  0.092996 -0.014880  0.019808    0.89      0  \n",
       "73479  -0.121790  0.635479  0.121720  0.010920  0.061392   16.43      0  \n",
       "\n",
       "[5 rows x 31 columns]"
      ]
     },
     "execution_count": 5,
     "metadata": {},
     "output_type": "execute_result"
    }
   ],
   "source": [
    "# Reviewing 5 transactions that were chosen randomly\n",
    "\n",
    "df.sample(5)"
   ]
  },
  {
   "cell_type": "code",
   "execution_count": 6,
   "metadata": {},
   "outputs": [
    {
     "data": {
      "text/plain": [
       "0    284315\n",
       "1       492\n",
       "Name: Class, dtype: int64"
      ]
     },
     "execution_count": 6,
     "metadata": {},
     "output_type": "execute_result"
    }
   ],
   "source": [
    "# Checking how common are fraudulent transactions\n",
    "\n",
    "df['Class'].value_counts()"
   ]
  },
  {
   "cell_type": "code",
   "execution_count": 7,
   "metadata": {},
   "outputs": [
    {
     "data": {
      "text/plain": [
       "0    0.998273\n",
       "1    0.001727\n",
       "Name: Class, dtype: float64"
      ]
     },
     "execution_count": 7,
     "metadata": {},
     "output_type": "execute_result"
    }
   ],
   "source": [
    "df['Class'].value_counts(normalize=True)"
   ]
  },
  {
   "cell_type": "code",
   "execution_count": 8,
   "metadata": {},
   "outputs": [],
   "source": [
    "fnf = df[\"Class\"].value_counts()"
   ]
  },
  {
   "cell_type": "code",
   "execution_count": 9,
   "metadata": {},
   "outputs": [
    {
     "data": {
      "text/plain": [
       "<matplotlib.axes._subplots.AxesSubplot at 0x7fa125b90c50>"
      ]
     },
     "execution_count": 9,
     "metadata": {},
     "output_type": "execute_result"
    },
    {
     "data": {
      "image/png": "[encoded data removed]",
      "text/plain": [
       "<Figure size 432x288 with 1 Axes>"
      ]
     },
     "metadata": {
      "needs_background": "light"
     },
     "output_type": "display_data"
    }
   ],
   "source": [
    "plt.xlabel(\"Class\")\n",
    "plt.ylabel(\"Number of Observations\")\n",
    "fnf.plot(kind = 'bar',title = 'Frequency by observation number',rot=0)"
   ]
  },
  {
   "cell_type": "code",
   "execution_count": 10,
   "metadata": {},
   "outputs": [
    {
     "data": {
      "image/png": "[encoded data removed]",
      "text/plain": [
       "<Figure size 432x288 with 1 Axes>"
      ]
     },
     "metadata": {
      "needs_background": "light"
     },
     "output_type": "display_data"
    }
   ],
   "source": [
    "# Fraud vs. non-fraud cases\n",
    "\n",
    "plt.scatter(df.loc[df['Class'] == 0]['V1'], df.loc[df['Class'] == 0]['V2'], label=\"Class #0\", alpha=0.5, linewidth=0.15)\n",
    "plt.scatter(df.loc[df['Class'] == 1]['V1'], df.loc[df['Class'] == 1]['V2'], label=\"Class #1\", alpha=0.5, linewidth=0.15,c='r')\n",
    "plt.show()"
   ]
  },
  {
   "cell_type": "markdown",
   "metadata": {},
   "source": [
    "### Distribution of Time and Amount"
   ]
  },
  {
   "cell_type": "code",
   "execution_count": 11,
   "metadata": {},
   "outputs": [
    {
     "data": {
      "image/png": "[encoded data removed]",
      "text/plain": [
       "<Figure size 1296x288 with 2 Axes>"
      ]
     },
     "metadata": {
      "needs_background": "light"
     },
     "output_type": "display_data"
    }
   ],
   "source": [
    "import seaborn as sns\n",
    "\n",
    "fig, ax = plt.subplots(1, 2, figsize=(18,4))\n",
    "\n",
    "# Plot the distribution of 'Time' feature \n",
    "sns.distplot(df['Time'].values/(60*60), ax=ax[0], color='r')\n",
    "ax[0].set_title('Distribution of Transaction Time', fontsize=14)\n",
    "ax[0].set_xlim([min(df['Time'].values/(60*60)), max(df['Time'].values/(60*60))])\n",
    "\n",
    "sns.distplot(df['Amount'].values, ax=ax[1], color='b')\n",
    "ax[1].set_title('Distribution of Transaction Amount', fontsize=14)\n",
    "ax[1].set_xlim([min(df['Amount'].values), max(df['Amount'].values)])\n",
    "\n",
    "plt.show()"
   ]
  },
  {
   "cell_type": "markdown",
   "metadata": {},
   "source": [
    "Most transactions happended in day time.Mean of transaction amount is 88 USD and 75% quatile is 77 USD."
   ]
  },
  {
   "cell_type": "markdown",
   "metadata": {},
   "source": [
    "### Divide Dataset into Two Datasets and Summarize"
   ]
  },
  {
   "cell_type": "code",
   "execution_count": 12,
   "metadata": {},
   "outputs": [],
   "source": [
    "# Seperate total data into non-fraud and fraud cases\n",
    "\n",
    "df_nonfraud = df[df.Class == 0] \n",
    "df_fraud = df[df.Class == 1]"
   ]
  },
  {
   "cell_type": "markdown",
   "metadata": {},
   "source": [
    "Compare the number of transactions in two separate datasets"
   ]
  },
  {
   "cell_type": "code",
   "execution_count": 13,
   "metadata": {},
   "outputs": [
    {
     "name": "stdout",
     "output_type": "stream",
     "text": [
      "count    284315.000000\n",
      "mean         88.291022\n",
      "std         250.105092\n",
      "min           0.000000\n",
      "25%           5.650000\n",
      "50%          22.000000\n",
      "75%          77.050000\n",
      "max       25691.160000\n",
      "Name: Amount, dtype: float64\n",
      "_________________________\n",
      "count     492.000000\n",
      "mean      122.211321\n",
      "std       256.683288\n",
      "min         0.000000\n",
      "25%         1.000000\n",
      "50%         9.250000\n",
      "75%       105.890000\n",
      "max      2125.870000\n",
      "Name: Amount, dtype: float64\n",
      "F: 9.033344712018891\n",
      "p: 0.0026512206498171095\n"
     ]
    }
   ],
   "source": [
    "# Summarize statistics and see differences between fraud and normal transactions\n",
    "\n",
    "print(df_nonfraud.Amount.describe())\n",
    "print('_'*25)\n",
    "print(df_fraud.Amount.describe())\n",
    "\n",
    "# Import the module\n",
    "\n",
    "from scipy import stats\n",
    "F, p = stats.f_oneway(df['Amount'][df['Class'] == 0], df['Amount'][df['Class'] == 1])\n",
    "print(\"F:\", F)\n",
    "print(\"p:\",p)"
   ]
  },
  {
   "cell_type": "markdown",
   "metadata": {},
   "source": [
    "The mean transaction amout among fraud cases is 122 USD, and is 88 among non-fraud cases. And the difference is statistically significant."
   ]
  },
  {
   "cell_type": "code",
   "execution_count": 14,
   "metadata": {},
   "outputs": [
    {
     "data": {
      "image/png": "[encoded data removed]",
      "text/plain": [
       "<Figure size 432x288 with 1 Axes>"
      ]
     },
     "metadata": {
      "needs_background": "light"
     },
     "output_type": "display_data"
    }
   ],
   "source": [
    "# Plot of high value transactions($200-$2000)\n",
    "bins = np.linspace(200, 2000, 100)\n",
    "plt.hist(df_nonfraud.Amount, bins, alpha=1, density=True, label='Non-Fraud')\n",
    "plt.hist(df_fraud.Amount, bins, alpha=1, density=True, label='Fraud')\n",
    "plt.legend(loc='upper right')\n",
    "plt.title(\"Amount by percentage of transactions (transactions \\$200-$2000)\")\n",
    "plt.xlabel(\"Transaction amount (USD)\")\n",
    "plt.ylabel(\"Percentage of transactions (%)\")\n",
    "plt.show()"
   ]
  },
  {
   "cell_type": "markdown",
   "metadata": {},
   "source": [
    "Fraud transaction happen more frequently. It would be hard to differentiate fraud from normal transactions by transaction amount alone."
   ]
  },
  {
   "cell_type": "markdown",
   "metadata": {},
   "source": [
    "Transaction Hour\n",
    "\n",
    "Let's look at the transaction percentage from day 0 to the next day."
   ]
  },
  {
   "cell_type": "code",
   "execution_count": 15,
   "metadata": {},
   "outputs": [
    {
     "data": {
      "image/png": "[encoded data removed]",
      "text/plain": [
       "<Figure size 432x288 with 1 Axes>"
      ]
     },
     "metadata": {
      "needs_background": "light"
     },
     "output_type": "display_data"
    }
   ],
   "source": [
    "# Plot of transactions in 48 hours\n",
    "\n",
    "bins = np.linspace(0, 48, 48) #48 hours\n",
    "plt.hist((df_nonfraud.Time/(60*60)), bins, alpha=1, density=True, label='Non-Fraud')\n",
    "plt.hist((df_fraud.Time/(60*60)), bins, alpha=0.6, density=True, label='Fraud')\n",
    "plt.legend(loc='upper right')\n",
    "plt.title(\"Percentage of transactions by hour\")\n",
    "plt.xlabel(\"Transaction time from first transaction in the dataset (hours)\")\n",
    "plt.ylabel(\"Percentage of transactions (%)\")\n",
    "plt.show()"
   ]
  },
  {
   "cell_type": "markdown",
   "metadata": {},
   "source": [
    "It seems fraud tends to occur at higher rates during the night."
   ]
  },
  {
   "cell_type": "markdown",
   "metadata": {},
   "source": [
    "Transaction Amount vs. Hour"
   ]
  },
  {
   "cell_type": "code",
   "execution_count": 16,
   "metadata": {},
   "outputs": [
    {
     "data": {
      "image/png": "[encoded data removed]",
      "text/plain": [
       "<Figure size 432x288 with 1 Axes>"
      ]
     },
     "metadata": {
      "needs_background": "light"
     },
     "output_type": "display_data"
    }
   ],
   "source": [
    "# Plot of transactions in 48 hours\n",
    "\n",
    "plt.scatter((df_nonfraud.Time/(60*60)), df_nonfraud.Amount, alpha=0.6, label='Non-Fraud')\n",
    "plt.scatter((df_fraud.Time/(60*60)), df_fraud.Amount, alpha=0.9, label='Fraud')\n",
    "plt.title(\"Amount of transaction by hour\")\n",
    "plt.xlabel(\"Transaction time as measured from first transaction in the dataset (hours)\")\n",
    "plt.ylabel('Amount (USD)')\n",
    "plt.legend(loc='upper right')\n",
    "plt.show()"
   ]
  },
  {
   "cell_type": "markdown",
   "metadata": {},
   "source": [
    "### Feature Scaling"
   ]
  },
  {
   "cell_type": "code",
   "execution_count": 17,
   "metadata": {},
   "outputs": [
    {
     "data": {
      "text/html": [
       "<div>\n",
       "<style scoped>\n",
       "    .dataframe tbody tr th:only-of-type {\n",
       "        vertical-align: middle;\n",
       "    }\n",
       "\n",
       "    .dataframe tbody tr th {\n",
       "        vertical-align: top;\n",
       "    }\n",
       "\n",
       "    .dataframe thead th {\n",
       "        text-align: right;\n",
       "    }\n",
       "</style>\n",
       "<table border=\"1\" class=\"dataframe\">\n",
       "  <thead>\n",
       "    <tr style=\"text-align: right;\">\n",
       "      <th></th>\n",
       "      <th>V1</th>\n",
       "      <th>V2</th>\n",
       "      <th>V3</th>\n",
       "      <th>V4</th>\n",
       "      <th>V5</th>\n",
       "      <th>V6</th>\n",
       "      <th>V7</th>\n",
       "      <th>V8</th>\n",
       "      <th>V9</th>\n",
       "      <th>V10</th>\n",
       "      <th>...</th>\n",
       "      <th>V22</th>\n",
       "      <th>V23</th>\n",
       "      <th>V24</th>\n",
       "      <th>V25</th>\n",
       "      <th>V26</th>\n",
       "      <th>V27</th>\n",
       "      <th>V28</th>\n",
       "      <th>Class</th>\n",
       "      <th>scaled_amount</th>\n",
       "      <th>scaled_time</th>\n",
       "    </tr>\n",
       "  </thead>\n",
       "  <tbody>\n",
       "    <tr>\n",
       "      <td>0</td>\n",
       "      <td>-1.359807</td>\n",
       "      <td>-0.072781</td>\n",
       "      <td>2.536347</td>\n",
       "      <td>1.378155</td>\n",
       "      <td>-0.338321</td>\n",
       "      <td>0.462388</td>\n",
       "      <td>0.239599</td>\n",
       "      <td>0.098698</td>\n",
       "      <td>0.363787</td>\n",
       "      <td>0.090794</td>\n",
       "      <td>...</td>\n",
       "      <td>0.277838</td>\n",
       "      <td>-0.110474</td>\n",
       "      <td>0.066928</td>\n",
       "      <td>0.128539</td>\n",
       "      <td>-0.189115</td>\n",
       "      <td>0.133558</td>\n",
       "      <td>-0.021053</td>\n",
       "      <td>0</td>\n",
       "      <td>1.783274</td>\n",
       "      <td>-0.994983</td>\n",
       "    </tr>\n",
       "    <tr>\n",
       "      <td>1</td>\n",
       "      <td>1.191857</td>\n",
       "      <td>0.266151</td>\n",
       "      <td>0.166480</td>\n",
       "      <td>0.448154</td>\n",
       "      <td>0.060018</td>\n",
       "      <td>-0.082361</td>\n",
       "      <td>-0.078803</td>\n",
       "      <td>0.085102</td>\n",
       "      <td>-0.255425</td>\n",
       "      <td>-0.166974</td>\n",
       "      <td>...</td>\n",
       "      <td>-0.638672</td>\n",
       "      <td>0.101288</td>\n",
       "      <td>-0.339846</td>\n",
       "      <td>0.167170</td>\n",
       "      <td>0.125895</td>\n",
       "      <td>-0.008983</td>\n",
       "      <td>0.014724</td>\n",
       "      <td>0</td>\n",
       "      <td>-0.269825</td>\n",
       "      <td>-0.994983</td>\n",
       "    </tr>\n",
       "    <tr>\n",
       "      <td>2</td>\n",
       "      <td>-1.358354</td>\n",
       "      <td>-1.340163</td>\n",
       "      <td>1.773209</td>\n",
       "      <td>0.379780</td>\n",
       "      <td>-0.503198</td>\n",
       "      <td>1.800499</td>\n",
       "      <td>0.791461</td>\n",
       "      <td>0.247676</td>\n",
       "      <td>-1.514654</td>\n",
       "      <td>0.207643</td>\n",
       "      <td>...</td>\n",
       "      <td>0.771679</td>\n",
       "      <td>0.909412</td>\n",
       "      <td>-0.689281</td>\n",
       "      <td>-0.327642</td>\n",
       "      <td>-0.139097</td>\n",
       "      <td>-0.055353</td>\n",
       "      <td>-0.059752</td>\n",
       "      <td>0</td>\n",
       "      <td>4.983721</td>\n",
       "      <td>-0.994972</td>\n",
       "    </tr>\n",
       "    <tr>\n",
       "      <td>3</td>\n",
       "      <td>-0.966272</td>\n",
       "      <td>-0.185226</td>\n",
       "      <td>1.792993</td>\n",
       "      <td>-0.863291</td>\n",
       "      <td>-0.010309</td>\n",
       "      <td>1.247203</td>\n",
       "      <td>0.237609</td>\n",
       "      <td>0.377436</td>\n",
       "      <td>-1.387024</td>\n",
       "      <td>-0.054952</td>\n",
       "      <td>...</td>\n",
       "      <td>0.005274</td>\n",
       "      <td>-0.190321</td>\n",
       "      <td>-1.175575</td>\n",
       "      <td>0.647376</td>\n",
       "      <td>-0.221929</td>\n",
       "      <td>0.062723</td>\n",
       "      <td>0.061458</td>\n",
       "      <td>0</td>\n",
       "      <td>1.418291</td>\n",
       "      <td>-0.994972</td>\n",
       "    </tr>\n",
       "    <tr>\n",
       "      <td>4</td>\n",
       "      <td>-1.158233</td>\n",
       "      <td>0.877737</td>\n",
       "      <td>1.548718</td>\n",
       "      <td>0.403034</td>\n",
       "      <td>-0.407193</td>\n",
       "      <td>0.095921</td>\n",
       "      <td>0.592941</td>\n",
       "      <td>-0.270533</td>\n",
       "      <td>0.817739</td>\n",
       "      <td>0.753074</td>\n",
       "      <td>...</td>\n",
       "      <td>0.798278</td>\n",
       "      <td>-0.137458</td>\n",
       "      <td>0.141267</td>\n",
       "      <td>-0.206010</td>\n",
       "      <td>0.502292</td>\n",
       "      <td>0.219422</td>\n",
       "      <td>0.215153</td>\n",
       "      <td>0</td>\n",
       "      <td>0.670579</td>\n",
       "      <td>-0.994960</td>\n",
       "    </tr>\n",
       "  </tbody>\n",
       "</table>\n",
       "<p>5 rows × 31 columns</p>\n",
       "</div>"
      ],
      "text/plain": [
       "         V1        V2        V3        V4        V5        V6        V7  \\\n",
       "0 -1.359807 -0.072781  2.536347  1.378155 -0.338321  0.462388  0.239599   \n",
       "1  1.191857  0.266151  0.166480  0.448154  0.060018 -0.082361 -0.078803   \n",
       "2 -1.358354 -1.340163  1.773209  0.379780 -0.503198  1.800499  0.791461   \n",
       "3 -0.966272 -0.185226  1.792993 -0.863291 -0.010309  1.247203  0.237609   \n",
       "4 -1.158233  0.877737  1.548718  0.403034 -0.407193  0.095921  0.592941   \n",
       "\n",
       "         V8        V9       V10  ...       V22       V23       V24       V25  \\\n",
       "0  0.098698  0.363787  0.090794  ...  0.277838 -0.110474  0.066928  0.128539   \n",
       "1  0.085102 -0.255425 -0.166974  ... -0.638672  0.101288 -0.339846  0.167170   \n",
       "2  0.247676 -1.514654  0.207643  ...  0.771679  0.909412 -0.689281 -0.327642   \n",
       "3  0.377436 -1.387024 -0.054952  ...  0.005274 -0.190321 -1.175575  0.647376   \n",
       "4 -0.270533  0.817739  0.753074  ...  0.798278 -0.137458  0.141267 -0.206010   \n",
       "\n",
       "        V26       V27       V28  Class  scaled_amount  scaled_time  \n",
       "0 -0.189115  0.133558 -0.021053      0       1.783274    -0.994983  \n",
       "1  0.125895 -0.008983  0.014724      0      -0.269825    -0.994983  \n",
       "2 -0.139097 -0.055353 -0.059752      0       4.983721    -0.994972  \n",
       "3 -0.221929  0.062723  0.061458      0       1.418291    -0.994972  \n",
       "4  0.502292  0.219422  0.215153      0       0.670579    -0.994960  \n",
       "\n",
       "[5 rows x 31 columns]"
      ]
     },
     "execution_count": 17,
     "metadata": {},
     "output_type": "execute_result"
    }
   ],
   "source": [
    "# Scale \"Time\" and \"Amount\"\n",
    "\n",
    "from sklearn.preprocessing import StandardScaler, RobustScaler\n",
    "df['scaled_amount'] = RobustScaler().fit_transform(df['Amount'].values.reshape(-1,1))\n",
    "df['scaled_time'] = RobustScaler().fit_transform(df['Time'].values.reshape(-1,1))\n",
    "\n",
    "# Make a new dataset named \"df_scaled\" dropping out original \"Time\" and \"Amount\"\n",
    "\n",
    "df_scaled = df.drop(['Time','Amount'],axis = 1,inplace=False)\n",
    "df_scaled.head()"
   ]
  },
  {
   "cell_type": "markdown",
   "metadata": {},
   "source": [
    "### Correlation Matrices"
   ]
  },
  {
   "cell_type": "code",
   "execution_count": 18,
   "metadata": {},
   "outputs": [
    {
     "data": {
      "text/plain": [
       "Text(0.5, 1, 'Imbalanced Correlation Matrix \\n')"
      ]
     },
     "execution_count": 18,
     "metadata": {},
     "output_type": "execute_result"
    },
    {
     "data": {
      "image/png": "[encoded data removed]",
      "text/plain": [
       "<Figure size 1728x1440 with 2 Axes>"
      ]
     },
     "metadata": {
      "needs_background": "light"
     },
     "output_type": "display_data"
    }
   ],
   "source": [
    "# Calculate pearson correlation coefficience\n",
    "\n",
    "corr = df_scaled.corr() \n",
    "\n",
    "# Plot heatmap of correlation\n",
    "\n",
    "f, ax = plt.subplots(1, 1, figsize=(24,20))\n",
    "sns.heatmap(corr, cmap='coolwarm_r', annot_kws={'size':20})\n",
    "ax.set_title(\"Imbalanced Correlation Matrix \\n\", fontsize=24)"
   ]
  },
  {
   "cell_type": "markdown",
   "metadata": {},
   "source": [
    "## 2. Resampling for Imbalanced Data"
   ]
  },
  {
   "cell_type": "markdown",
   "metadata": {},
   "source": [
    "### Extract features from our scaled dataset \"df_scaled\""
   ]
  },
  {
   "cell_type": "code",
   "execution_count": 19,
   "metadata": {},
   "outputs": [],
   "source": [
    "# Define the prep_data function to extrac features\n",
    "\n",
    "def prep_data(df):\n",
    "    X = df.drop(['Class'],axis=1, inplace=False) #  \n",
    "    X = np.array(X).astype(np.float)\n",
    "    y = df[['Class']]  \n",
    "    y = np.array(y).astype(np.float)\n",
    "    return X,y\n",
    "\n",
    "# Create X and y from the prep_data function \n",
    "\n",
    "X, y = prep_data(df_scaled)"
   ]
  },
  {
   "cell_type": "markdown",
   "metadata": {},
   "source": [
    "### Resample data with RUS, ROS and SMOTE"
   ]
  },
  {
   "cell_type": "code",
   "execution_count": 20,
   "metadata": {},
   "outputs": [
    {
     "name": "stderr",
     "output_type": "stream",
     "text": [
      "/Users/maria.doda/opt/anaconda3/lib/python3.7/site-packages/tensorflow/python/framework/dtypes.py:516: FutureWarning: Passing (type, 1) or '1type' as a synonym of type is deprecated; in a future version of numpy, it will be understood as (type, (1,)) / '(1,)type'.\n",
      "  _np_qint8 = np.dtype([(\"qint8\", np.int8, 1)])\n",
      "/Users/maria.doda/opt/anaconda3/lib/python3.7/site-packages/tensorflow/python/framework/dtypes.py:517: FutureWarning: Passing (type, 1) or '1type' as a synonym of type is deprecated; in a future version of numpy, it will be understood as (type, (1,)) / '(1,)type'.\n",
      "  _np_quint8 = np.dtype([(\"quint8\", np.uint8, 1)])\n",
      "/Users/maria.doda/opt/anaconda3/lib/python3.7/site-packages/tensorflow/python/framework/dtypes.py:518: FutureWarning: Passing (type, 1) or '1type' as a synonym of type is deprecated; in a future version of numpy, it will be understood as (type, (1,)) / '(1,)type'.\n",
      "  _np_qint16 = np.dtype([(\"qint16\", np.int16, 1)])\n",
      "/Users/maria.doda/opt/anaconda3/lib/python3.7/site-packages/tensorflow/python/framework/dtypes.py:519: FutureWarning: Passing (type, 1) or '1type' as a synonym of type is deprecated; in a future version of numpy, it will be understood as (type, (1,)) / '(1,)type'.\n",
      "  _np_quint16 = np.dtype([(\"quint16\", np.uint16, 1)])\n",
      "/Users/maria.doda/opt/anaconda3/lib/python3.7/site-packages/tensorflow/python/framework/dtypes.py:520: FutureWarning: Passing (type, 1) or '1type' as a synonym of type is deprecated; in a future version of numpy, it will be understood as (type, (1,)) / '(1,)type'.\n",
      "  _np_qint32 = np.dtype([(\"qint32\", np.int32, 1)])\n",
      "/Users/maria.doda/opt/anaconda3/lib/python3.7/site-packages/tensorflow/python/framework/dtypes.py:525: FutureWarning: Passing (type, 1) or '1type' as a synonym of type is deprecated; in a future version of numpy, it will be understood as (type, (1,)) / '(1,)type'.\n",
      "  np_resource = np.dtype([(\"resource\", np.ubyte, 1)])\n",
      "/Users/maria.doda/opt/anaconda3/lib/python3.7/site-packages/tensorboard/compat/tensorflow_stub/dtypes.py:541: FutureWarning: Passing (type, 1) or '1type' as a synonym of type is deprecated; in a future version of numpy, it will be understood as (type, (1,)) / '(1,)type'.\n",
      "  _np_qint8 = np.dtype([(\"qint8\", np.int8, 1)])\n",
      "/Users/maria.doda/opt/anaconda3/lib/python3.7/site-packages/tensorboard/compat/tensorflow_stub/dtypes.py:542: FutureWarning: Passing (type, 1) or '1type' as a synonym of type is deprecated; in a future version of numpy, it will be understood as (type, (1,)) / '(1,)type'.\n",
      "  _np_quint8 = np.dtype([(\"quint8\", np.uint8, 1)])\n",
      "/Users/maria.doda/opt/anaconda3/lib/python3.7/site-packages/tensorboard/compat/tensorflow_stub/dtypes.py:543: FutureWarning: Passing (type, 1) or '1type' as a synonym of type is deprecated; in a future version of numpy, it will be understood as (type, (1,)) / '(1,)type'.\n",
      "  _np_qint16 = np.dtype([(\"qint16\", np.int16, 1)])\n",
      "/Users/maria.doda/opt/anaconda3/lib/python3.7/site-packages/tensorboard/compat/tensorflow_stub/dtypes.py:544: FutureWarning: Passing (type, 1) or '1type' as a synonym of type is deprecated; in a future version of numpy, it will be understood as (type, (1,)) / '(1,)type'.\n",
      "  _np_quint16 = np.dtype([(\"quint16\", np.uint16, 1)])\n",
      "/Users/maria.doda/opt/anaconda3/lib/python3.7/site-packages/tensorboard/compat/tensorflow_stub/dtypes.py:545: FutureWarning: Passing (type, 1) or '1type' as a synonym of type is deprecated; in a future version of numpy, it will be understood as (type, (1,)) / '(1,)type'.\n",
      "  _np_qint32 = np.dtype([(\"qint32\", np.int32, 1)])\n",
      "/Users/maria.doda/opt/anaconda3/lib/python3.7/site-packages/tensorboard/compat/tensorflow_stub/dtypes.py:550: FutureWarning: Passing (type, 1) or '1type' as a synonym of type is deprecated; in a future version of numpy, it will be understood as (type, (1,)) / '(1,)type'.\n",
      "  np_resource = np.dtype([(\"resource\", np.ubyte, 1)])\n"
     ]
    }
   ],
   "source": [
    "from imblearn import under_sampling, over_sampling\n",
    "from imblearn.over_sampling import SMOTE"
   ]
  },
  {
   "cell_type": "code",
   "execution_count": 21,
   "metadata": {},
   "outputs": [
    {
     "name": "stderr",
     "output_type": "stream",
     "text": [
      "/Users/maria.doda/opt/anaconda3/lib/python3.7/site-packages/sklearn/utils/validation.py:724: DataConversionWarning: A column-vector y was passed when a 1d array was expected. Please change the shape of y to (n_samples, ), for example using ravel().\n",
      "  y = column_or_1d(y, warn=True)\n",
      "/Users/maria.doda/opt/anaconda3/lib/python3.7/site-packages/sklearn/utils/validation.py:724: DataConversionWarning: A column-vector y was passed when a 1d array was expected. Please change the shape of y to (n_samples, ), for example using ravel().\n",
      "  y = column_or_1d(y, warn=True)\n",
      "/Users/maria.doda/opt/anaconda3/lib/python3.7/site-packages/sklearn/utils/validation.py:724: DataConversionWarning: A column-vector y was passed when a 1d array was expected. Please change the shape of y to (n_samples, ), for example using ravel().\n",
      "  y = column_or_1d(y, warn=True)\n"
     ]
    }
   ],
   "source": [
    "from sklearn.model_selection import train_test_split\n",
    "from imblearn.under_sampling import RandomUnderSampler\n",
    "from imblearn.over_sampling import RandomOverSampler\n",
    "from imblearn.over_sampling import SMOTE\n",
    "from imblearn.over_sampling import BorderlineSMOTE\n",
    "from imblearn.pipeline import Pipeline\n",
    "\n",
    "# Create the training and testing sets\n",
    "\n",
    "X_train, X_test, y_train, y_test = train_test_split(X, y, test_size=.3, random_state=0)\n",
    "\n",
    "# Define the resampling method\n",
    "\n",
    "undersam = RandomUnderSampler(random_state=0)\n",
    "oversam = RandomOverSampler(random_state=0)\n",
    "smote = SMOTE(kind='regular',random_state=0)\n",
    "borderlinesmote = BorderlineSMOTE(kind='borderline-2',random_state=0)\n",
    "\n",
    "# resample the training data\n",
    "\n",
    "X_undersam, y_undersam = undersam.fit_sample(X_train,y_train)\n",
    "X_oversam, y_oversam = oversam.fit_sample(X_train,y_train)\n",
    "X_smote, y_smote = smote.fit_sample(X_train,y_train)\n",
    "X_borderlinesmote, y_borderlinesmote = borderlinesmote.fit_sample(X_train,y_train)"
   ]
  },
  {
   "cell_type": "markdown",
   "metadata": {},
   "source": [
    "## 3. Logistic Regression"
   ]
  },
  {
   "cell_type": "code",
   "execution_count": 22,
   "metadata": {},
   "outputs": [
    {
     "name": "stderr",
     "output_type": "stream",
     "text": [
      "/Users/maria.doda/opt/anaconda3/lib/python3.7/site-packages/sklearn/linear_model/logistic.py:432: FutureWarning: Default solver will be changed to 'lbfgs' in 0.22. Specify a solver to silence this warning.\n",
      "  FutureWarning)\n",
      "/Users/maria.doda/opt/anaconda3/lib/python3.7/site-packages/sklearn/utils/validation.py:724: DataConversionWarning: A column-vector y was passed when a 1d array was expected. Please change the shape of y to (n_samples, ), for example using ravel().\n",
      "  y = column_or_1d(y, warn=True)\n"
     ]
    }
   ],
   "source": [
    "from sklearn.model_selection import train_test_split\n",
    "from sklearn.linear_model import LogisticRegression\n",
    "\n",
    "# Create the training and testing sets\n",
    "\n",
    "X_train, X_test, y_train, y_test = train_test_split(X, y, test_size=.3, random_state=0)\n",
    "\n",
    "# Fit a logistic regression model to our data\n",
    "\n",
    "model = LogisticRegression()\n",
    "model.fit(X_train, y_train)\n",
    "\n",
    "# Obtain model predictions\n",
    "\n",
    "y_predicted = model.predict(X_test)"
   ]
  },
  {
   "cell_type": "markdown",
   "metadata": {},
   "source": [
    "### Model Evaluation"
   ]
  },
  {
   "cell_type": "code",
   "execution_count": 23,
   "metadata": {},
   "outputs": [
    {
     "name": "stdout",
     "output_type": "stream",
     "text": [
      "ROC AUC Score: 0.9697298212100447\n"
     ]
    }
   ],
   "source": [
    "from sklearn.metrics import roc_curve,roc_auc_score, precision_recall_curve, average_precision_score\n",
    "from sklearn.metrics import classification_report\n",
    "from sklearn.metrics import confusion_matrix\n",
    "\n",
    "# Create true and false positive rates\n",
    "\n",
    "false_positive_rate, true_positive_rate, threshold = roc_curve(y_test, y_predicted)\n",
    "\n",
    "# Calculate Area Under the Receiver Operating Characteristic Curve \n",
    "\n",
    "probs = model.predict_proba(X_test)\n",
    "roc_auc = roc_auc_score(y_test, probs[:, 1])\n",
    "print('ROC AUC Score:',roc_auc)\n",
    "\n",
    "# Obtain precision and recall \n",
    "\n",
    "precision, recall, thresholds = precision_recall_curve(y_test, y_predicted)\n",
    "\n",
    "# Calculate average precision \n",
    "\n",
    "average_precision = average_precision_score(y_test, y_predicted)\n",
    "\n",
    "# Define a roc_curve function\n",
    "\n",
    "def plot_roc_curve(false_positive_rate,true_positive_rate,roc_auc):\n",
    "    plt.plot(false_positive_rate, true_positive_rate, linewidth=5, label='AUC = %0.3f'% roc_auc)\n",
    "    plt.plot([0,1],[0,1], linewidth=5)\n",
    "    plt.xlim([-0.01, 1])\n",
    "    plt.ylim([0, 1.01])\n",
    "    plt.legend(loc='upper right')\n",
    "    plt.title('Receiver operating characteristic curve (ROC)')\n",
    "    plt.ylabel('True Positive Rate')\n",
    "    plt.xlabel('False Positive Rate')\n",
    "    plt.show()"
   ]
  },
  {
   "cell_type": "code",
   "execution_count": 24,
   "metadata": {},
   "outputs": [],
   "source": [
    "# Define a precision_recall_curve function\n",
    "\n",
    "def plot_pr_curve(recall, precision, average_precision):\n",
    "    plt.step(recall, precision, color='b', alpha=0.2, where='post')\n",
    "    plt.fill_between(recall, precision, step='post', alpha=0.2, color='b')\n",
    "    plt.xlabel('Recall')\n",
    "    plt.ylabel('Precision')\n",
    "    plt.ylim([0.0, 1.05])\n",
    "    plt.xlim([0.0, 1.0])\n",
    "    plt.title('2-class Precision-Recall curve: AP={0:0.2f}'.format(average_precision))\n",
    "    plt.show()"
   ]
  },
  {
   "cell_type": "code",
   "execution_count": 25,
   "metadata": {},
   "outputs": [
    {
     "name": "stdout",
     "output_type": "stream",
     "text": [
      "Classification report:\n",
      "               precision    recall  f1-score   support\n",
      "\n",
      "         0.0       1.00      1.00      1.00     85296\n",
      "         1.0       0.88      0.62      0.73       147\n",
      "\n",
      "    accuracy                           1.00     85443\n",
      "   macro avg       0.94      0.81      0.86     85443\n",
      "weighted avg       1.00      1.00      1.00     85443\n",
      "\n",
      "Confusion matrix:\n",
      " [[85284    12]\n",
      " [   56    91]]\n"
     ]
    },
    {
     "data": {
      "image/png": "[encoded data removed]",
      "text/plain": [
       "<Figure size 432x288 with 1 Axes>"
      ]
     },
     "metadata": {
      "needs_background": "light"
     },
     "output_type": "display_data"
    },
    {
     "data": {
      "image/png": "[encoded data removed]",
      "text/plain": [
       "<Figure size 432x288 with 1 Axes>"
      ]
     },
     "metadata": {
      "needs_background": "light"
     },
     "output_type": "display_data"
    }
   ],
   "source": [
    "# Print the classifcation report and confusion matrix\n",
    "\n",
    "print('Classification report:\\n', classification_report(y_test, y_predicted))\n",
    "print('Confusion matrix:\\n',confusion_matrix(y_true = y_test, y_pred = y_predicted))\n",
    "\n",
    "# Plot the roc curve \n",
    "\n",
    "plot_roc_curve(false_positive_rate,true_positive_rate,roc_auc)\n",
    "\n",
    "# Plot recall precision curve\n",
    "\n",
    "plot_pr_curve(recall, precision, average_precision)"
   ]
  },
  {
   "cell_type": "markdown",
   "metadata": {},
   "source": [
    "Accuracy score= 99.92% which is higher than the baseline 99.83%.\n",
    "Precision = 91/(12+91) = 0.88. The rate of true positive in all positive cases.\n",
    "Recall = 91/ (56+91) = 0.62. The rate of true positive in all true cases.\n",
    "F1-score = 0.73\n",
    "False positives cases = 12."
   ]
  },
  {
   "cell_type": "markdown",
   "metadata": {},
   "source": [
    "## Logistic Regression with Resampled Data"
   ]
  },
  {
   "cell_type": "code",
   "execution_count": 26,
   "metadata": {},
   "outputs": [],
   "source": [
    "from sklearn.model_selection import train_test_split\n",
    "from sklearn.linear_model import LogisticRegression\n",
    "from imblearn.under_sampling import RandomUnderSampler\n",
    "from imblearn.over_sampling import RandomOverSampler\n",
    "from imblearn.over_sampling import SMOTE\n",
    "from imblearn.over_sampling import BorderlineSMOTE"
   ]
  },
  {
   "cell_type": "code",
   "execution_count": 27,
   "metadata": {},
   "outputs": [
    {
     "name": "stderr",
     "output_type": "stream",
     "text": [
      "/Users/maria.doda/opt/anaconda3/lib/python3.7/site-packages/sklearn/utils/validation.py:724: DataConversionWarning: A column-vector y was passed when a 1d array was expected. Please change the shape of y to (n_samples, ), for example using ravel().\n",
      "  y = column_or_1d(y, warn=True)\n",
      "/Users/maria.doda/opt/anaconda3/lib/python3.7/site-packages/sklearn/utils/validation.py:724: DataConversionWarning: A column-vector y was passed when a 1d array was expected. Please change the shape of y to (n_samples, ), for example using ravel().\n",
      "  y = column_or_1d(y, warn=True)\n",
      "/Users/maria.doda/opt/anaconda3/lib/python3.7/site-packages/sklearn/utils/validation.py:724: DataConversionWarning: A column-vector y was passed when a 1d array was expected. Please change the shape of y to (n_samples, ), for example using ravel().\n",
      "  y = column_or_1d(y, warn=True)\n",
      "/Users/maria.doda/opt/anaconda3/lib/python3.7/site-packages/sklearn/linear_model/logistic.py:432: FutureWarning: Default solver will be changed to 'lbfgs' in 0.22. Specify a solver to silence this warning.\n",
      "  FutureWarning)\n",
      "/Users/maria.doda/opt/anaconda3/lib/python3.7/site-packages/sklearn/utils/validation.py:724: DataConversionWarning: A column-vector y was passed when a 1d array was expected. Please change the shape of y to (n_samples, ), for example using ravel().\n",
      "  y = column_or_1d(y, warn=True)\n",
      "/Users/maria.doda/opt/anaconda3/lib/python3.7/site-packages/sklearn/linear_model/logistic.py:432: FutureWarning: Default solver will be changed to 'lbfgs' in 0.22. Specify a solver to silence this warning.\n",
      "  FutureWarning)\n",
      "/Users/maria.doda/opt/anaconda3/lib/python3.7/site-packages/sklearn/linear_model/logistic.py:432: FutureWarning: Default solver will be changed to 'lbfgs' in 0.22. Specify a solver to silence this warning.\n",
      "  FutureWarning)\n",
      "/Users/maria.doda/opt/anaconda3/lib/python3.7/site-packages/sklearn/linear_model/logistic.py:432: FutureWarning: Default solver will be changed to 'lbfgs' in 0.22. Specify a solver to silence this warning.\n",
      "  FutureWarning)\n"
     ]
    }
   ],
   "source": [
    "# Create the training and testing sets\n",
    "\n",
    "X_train, X_test, y_train, y_test = train_test_split(X, y, test_size=.3, random_state=0)\n",
    "\n",
    "# Resample your training data\n",
    "\n",
    "rus = RandomUnderSampler()\n",
    "ros = RandomOverSampler()\n",
    "smote = SMOTE(kind='regular',random_state=5)\n",
    "blsmote = BorderlineSMOTE(kind='borderline-2',random_state=5)\n",
    "\n",
    "X_train_rus, y_train_rus = rus.fit_sample(X_train,y_train)\n",
    "X_train_ros, y_train_ros = ros.fit_sample(X_train,y_train)\n",
    "X_train_smote, y_train_smote = smote.fit_sample(X_train,y_train)\n",
    "X_train_blsmote, y_train_blsmote = blsmote.fit_sample(X_train,y_train)\n",
    "\n",
    "# Fit a logistic regression model to our data\n",
    "\n",
    "rus_model = LogisticRegression().fit(X_train_rus, y_train_rus)\n",
    "ros_model = LogisticRegression().fit(X_train_ros, y_train_ros)\n",
    "smote_model = LogisticRegression().fit(X_train_smote, y_train_smote)\n",
    "blsmote_model = LogisticRegression().fit(X_train_blsmote, y_train_blsmote)\n",
    "\n",
    "y_rus = rus_model.predict(X_test)\n",
    "y_ros = ros_model.predict(X_test)\n",
    "y_smote = smote_model.predict(X_test)\n",
    "y_blsmote = blsmote_model.predict(X_test)"
   ]
  },
  {
   "cell_type": "code",
   "execution_count": 28,
   "metadata": {},
   "outputs": [
    {
     "name": "stdout",
     "output_type": "stream",
     "text": [
      "Classifcation report:\n",
      "               precision    recall  f1-score   support\n",
      "\n",
      "         0.0       1.00      0.95      0.97     85296\n",
      "         1.0       0.03      0.93      0.06       147\n",
      "\n",
      "    accuracy                           0.95     85443\n",
      "   macro avg       0.52      0.94      0.52     85443\n",
      "weighted avg       1.00      0.95      0.97     85443\n",
      "\n",
      "Confusion matrix:\n",
      " [[80959  4337]\n",
      " [   10   137]]\n",
      "*************************\n",
      "Classifcation report:\n",
      "               precision    recall  f1-score   support\n",
      "\n",
      "         0.0       1.00      0.98      0.99     85296\n",
      "         1.0       0.07      0.92      0.12       147\n",
      "\n",
      "    accuracy                           0.98     85443\n",
      "   macro avg       0.53      0.95      0.56     85443\n",
      "weighted avg       1.00      0.98      0.99     85443\n",
      "\n",
      "Confusion matrix:\n",
      " [[83373  1923]\n",
      " [   12   135]]\n",
      "*************************\n",
      "Classifcation report:\n",
      "               precision    recall  f1-score   support\n",
      "\n",
      "         0.0       1.00      0.98      0.99     85296\n",
      "         1.0       0.06      0.92      0.11       147\n",
      "\n",
      "    accuracy                           0.98     85443\n",
      "   macro avg       0.53      0.95      0.55     85443\n",
      "weighted avg       1.00      0.98      0.99     85443\n",
      "\n",
      "Confusion matrix:\n",
      " [[83174  2122]\n",
      " [   12   135]]\n",
      "*************************\n",
      "Classifcation report:\n",
      "               precision    recall  f1-score   support\n",
      "\n",
      "         0.0       1.00      0.98      0.99     85296\n",
      "         1.0       0.09      0.86      0.16       147\n",
      "\n",
      "    accuracy                           0.98     85443\n",
      "   macro avg       0.54      0.92      0.58     85443\n",
      "weighted avg       1.00      0.98      0.99     85443\n",
      "\n",
      "Confusion matrix:\n",
      " [[83982  1314]\n",
      " [   20   127]]\n",
      "*************************\n"
     ]
    }
   ],
   "source": [
    "print('Classifcation report:\\n', classification_report(y_test, y_rus))\n",
    "print('Confusion matrix:\\n', confusion_matrix(y_true = y_test, y_pred = y_rus))\n",
    "print('*'*25)\n",
    "\n",
    "print('Classifcation report:\\n', classification_report(y_test, y_ros))\n",
    "print('Confusion matrix:\\n', confusion_matrix(y_true = y_test, y_pred = y_ros))\n",
    "print('*'*25)\n",
    "\n",
    "print('Classifcation report:\\n', classification_report(y_test, y_smote))\n",
    "print('Confusion matrix:\\n', confusion_matrix(y_true = y_test, y_pred = y_smote))\n",
    "print('*'*25)\n",
    "\n",
    "print('Classifcation report:\\n', classification_report(y_test, y_blsmote))\n",
    "print('Confusion matrix:\\n', confusion_matrix(y_true = y_test, y_pred = y_blsmote))\n",
    "print('*'*25)"
   ]
  },
  {
   "cell_type": "markdown",
   "metadata": {},
   "source": [
    "### Logistic Regression with sampled Data using Pipeline"
   ]
  },
  {
   "cell_type": "code",
   "execution_count": 29,
   "metadata": {},
   "outputs": [
    {
     "name": "stderr",
     "output_type": "stream",
     "text": [
      "/Users/maria.doda/opt/anaconda3/lib/python3.7/site-packages/sklearn/utils/validation.py:724: DataConversionWarning: A column-vector y was passed when a 1d array was expected. Please change the shape of y to (n_samples, ), for example using ravel().\n",
      "  y = column_or_1d(y, warn=True)\n",
      "/Users/maria.doda/opt/anaconda3/lib/python3.7/site-packages/sklearn/linear_model/logistic.py:432: FutureWarning: Default solver will be changed to 'lbfgs' in 0.22. Specify a solver to silence this warning.\n",
      "  FutureWarning)\n"
     ]
    },
    {
     "name": "stdout",
     "output_type": "stream",
     "text": [
      "Classifcation report:\n",
      "               precision    recall  f1-score   support\n",
      "\n",
      "         0.0       1.00      0.99      0.99     85296\n",
      "         1.0       0.09      0.86      0.17       147\n",
      "\n",
      "    accuracy                           0.98     85443\n",
      "   macro avg       0.55      0.92      0.58     85443\n",
      "weighted avg       1.00      0.98      0.99     85443\n",
      "\n",
      "Confusion matrix:\n",
      " [[84031  1265]\n",
      " [   20   127]]\n"
     ]
    }
   ],
   "source": [
    "# Import the pipeline module we need for this from imblearn\n",
    "\n",
    "from imblearn.pipeline import Pipeline \n",
    "\n",
    "# Create the training and testing sets\n",
    "\n",
    "X_train, X_test, y_train, y_test = train_test_split(X, y, test_size=.3, random_state=0)\n",
    "\n",
    "# Define which resampling method and which ML model to use in the pipeline\n",
    "\n",
    "resampling = BorderlineSMOTE(kind='borderline-2',random_state=0) # instead SMOTE(kind='borderline2') \n",
    "model = LogisticRegression() \n",
    "\n",
    "# Define the pipeline, tell it to combine SMOTE with the Logistic Regression model\n",
    "\n",
    "pipeline = Pipeline([('SMOTE', resampling), ('Logistic Regression', model)])\n",
    "\n",
    "# Fit your pipeline onto your training set and obtain predictions by fitting the model onto the test data \n",
    "\n",
    "pipeline.fit(X_train, y_train) \n",
    "y_predicted = pipeline.predict(X_test)\n",
    "\n",
    "# Obtain the results from the classification report and confusion matrix \n",
    "\n",
    "print('Classifcation report:\\n', classification_report(y_test, y_predicted))\n",
    "print('Confusion matrix:\\n', confusion_matrix(y_true = y_test, y_pred = y_predicted))"
   ]
  },
  {
   "cell_type": "markdown",
   "metadata": {},
   "source": [
    "As you can see, with the BorderlineSMOTE resampling method, we can get the best f1-score 0.15 compared with other 3 reampling methods. Not in all cases does resampling necessarily lead to better results."
   ]
  },
  {
   "cell_type": "markdown",
   "metadata": {},
   "source": [
    "## 4. Decision Tree Classifier"
   ]
  },
  {
   "cell_type": "code",
   "execution_count": 30,
   "metadata": {},
   "outputs": [
    {
     "data": {
      "image/png": "[encoded data removed]",
      "text/plain": [
       "<Figure size 432x288 with 1 Axes>"
      ]
     },
     "metadata": {
      "needs_background": "light"
     },
     "output_type": "display_data"
    },
    {
     "name": "stdout",
     "output_type": "stream",
     "text": [
      "Classification report:\n",
      "               precision    recall  f1-score   support\n",
      "\n",
      "         0.0       1.00      1.00      1.00     85296\n",
      "         1.0       0.78      0.75      0.76       147\n",
      "\n",
      "    accuracy                           1.00     85443\n",
      "   macro avg       0.89      0.87      0.88     85443\n",
      "weighted avg       1.00      1.00      1.00     85443\n",
      "\n",
      "Confusion matrix:\n",
      " [[85265    31]\n",
      " [   37   110]]\n"
     ]
    }
   ],
   "source": [
    "# Import the decision tree model from sklearn\n",
    "\n",
    "from sklearn.model_selection import train_test_split\n",
    "from sklearn.tree import DecisionTreeClassifier\n",
    "from sklearn.metrics import classification_report\n",
    "from sklearn.metrics import confusion_matrix\n",
    "\n",
    "# Create the training and testing sets\n",
    "\n",
    "X_train, X_test, y_train, y_test = train_test_split(X, y, test_size=.3, random_state=0)\n",
    "\n",
    "# Fit a logistic regression model to our data\n",
    "\n",
    "model = DecisionTreeClassifier()\n",
    "model.fit(X_train, y_train)\n",
    "\n",
    "# Obtain model predictions\n",
    "\n",
    "y_predicted = model.predict(X_test)\n",
    "\n",
    "# Calculate average precision \n",
    "\n",
    "average_precision = average_precision_score(y_test, y_predicted)\n",
    "\n",
    "# Obtain precision and recall \n",
    "\n",
    "precision, recall, _ = precision_recall_curve(y_test, y_predicted)\n",
    "\n",
    "# Plot the recall precision tradeoff\n",
    "\n",
    "plot_pr_curve(recall, precision, average_precision)\n",
    "\n",
    "# Print the classifcation report and confusion matrix\n",
    "\n",
    "print('Classification report:\\n', classification_report(y_test, y_predicted))\n",
    "print('Confusion matrix:\\n',confusion_matrix(y_true = y_test, y_pred = y_predicted))"
   ]
  },
  {
   "cell_type": "markdown",
   "metadata": {},
   "source": [
    "Precision = 113/(113+25) = 0.82. The rate of true positive in all positive cases.\n",
    "Recall = 113/ (113+34) = 0.77. The rate of true positive in all true cases.\n",
    "F1-score = 0.79 False positives cases = 31."
   ]
  },
  {
   "cell_type": "markdown",
   "metadata": {},
   "source": [
    "### Decision Tree Classifier with SMOTE Data"
   ]
  },
  {
   "cell_type": "code",
   "execution_count": 31,
   "metadata": {},
   "outputs": [
    {
     "name": "stderr",
     "output_type": "stream",
     "text": [
      "/Users/maria.doda/opt/anaconda3/lib/python3.7/site-packages/sklearn/utils/validation.py:724: DataConversionWarning: A column-vector y was passed when a 1d array was expected. Please change the shape of y to (n_samples, ), for example using ravel().\n",
      "  y = column_or_1d(y, warn=True)\n"
     ]
    },
    {
     "name": "stdout",
     "output_type": "stream",
     "text": [
      "Classifcation report:\n",
      "               precision    recall  f1-score   support\n",
      "\n",
      "         0.0       1.00      1.00      1.00     85296\n",
      "         1.0       0.51      0.73      0.60       147\n",
      "\n",
      "    accuracy                           1.00     85443\n",
      "   macro avg       0.75      0.86      0.80     85443\n",
      "weighted avg       1.00      1.00      1.00     85443\n",
      "\n",
      "Confusion matrix:\n",
      " [[85193   103]\n",
      " [   40   107]]\n"
     ]
    }
   ],
   "source": [
    "# Import the pipeline module we need for this from imblearn\n",
    "\n",
    "from imblearn.pipeline import Pipeline \n",
    "from imblearn.over_sampling import BorderlineSMOTE\n",
    "\n",
    "# Define which resampling method and which ML model to use in the pipeline\n",
    "\n",
    "resampling = BorderlineSMOTE(kind='borderline-2',random_state=0) # instead SMOTE(kind='borderline2') \n",
    "model = DecisionTreeClassifier() \n",
    "\n",
    "# Define the pipeline, tell it to combine SMOTE with the Logistic Regression model\n",
    "\n",
    "pipeline = Pipeline([('SMOTE', resampling), ('Decision Tree Classifier', model)])\n",
    "\n",
    "# Fit your pipeline onto your training set and obtain predictions by fitting the model onto the test data \n",
    "\n",
    "pipeline.fit(X_train, y_train) \n",
    "y_predicted = pipeline.predict(X_test)\n",
    "\n",
    "# Obtain the results from the classification report and confusion matrix \n",
    "\n",
    "print('Classifcation report:\\n', classification_report(y_test, y_predicted))\n",
    "print('Confusion matrix:\\n',  confusion_matrix(y_true = y_test, y_pred = y_predicted))"
   ]
  },
  {
   "cell_type": "markdown",
   "metadata": {},
   "source": [
    "Precision = 0.63. The rate of true positive in all positive cases.\n",
    "Recall = 0.71. The rate of true positive in all true cases.\n",
    "F1-score = 0.66\n",
    "False positives cases = 62."
   ]
  },
  {
   "cell_type": "markdown",
   "metadata": {},
   "source": [
    "## 5. Random Forest Classifier"
   ]
  },
  {
   "cell_type": "code",
   "execution_count": 32,
   "metadata": {},
   "outputs": [
    {
     "name": "stderr",
     "output_type": "stream",
     "text": [
      "/Users/maria.doda/opt/anaconda3/lib/python3.7/site-packages/sklearn/ensemble/forest.py:245: FutureWarning: The default value of n_estimators will change from 10 in version 0.20 to 100 in 0.22.\n",
      "  \"10 in version 0.20 to 100 in 0.22.\", FutureWarning)\n",
      "/Users/maria.doda/opt/anaconda3/lib/python3.7/site-packages/ipykernel_launcher.py:16: DataConversionWarning: A column-vector y was passed when a 1d array was expected. Please change the shape of y to (n_samples,), for example using ravel().\n",
      "  app.launch_new_instance()\n"
     ]
    },
    {
     "data": {
      "image/png": "[encoded data removed]",
      "text/plain": [
       "<Figure size 432x288 with 1 Axes>"
      ]
     },
     "metadata": {
      "needs_background": "light"
     },
     "output_type": "display_data"
    },
    {
     "name": "stdout",
     "output_type": "stream",
     "text": [
      "0.9994850368081645\n",
      "AUC ROC score:  0.9214466198221927\n",
      "Classification report:\n",
      "               precision    recall  f1-score   support\n",
      "\n",
      "         0.0       1.00      1.00      1.00     85296\n",
      "         1.0       0.96      0.73      0.83       147\n",
      "\n",
      "    accuracy                           1.00     85443\n",
      "   macro avg       0.98      0.87      0.92     85443\n",
      "weighted avg       1.00      1.00      1.00     85443\n",
      "\n",
      "Confusion matrix:\n",
      " [[85291     5]\n",
      " [   39   108]]\n"
     ]
    }
   ],
   "source": [
    "# Import the Random Forest Classifier model from sklearn\n",
    "\n",
    "from sklearn.model_selection import train_test_split\n",
    "from sklearn.ensemble import RandomForestClassifier\n",
    "from sklearn.metrics import accuracy_score,roc_auc_score\n",
    "from sklearn.metrics import classification_report\n",
    "from sklearn.metrics import confusion_matrix\n",
    "\n",
    "# Create the training and testing sets\n",
    "\n",
    "X_train, X_test, y_train, y_test = train_test_split(X, y, test_size=.3, random_state=0)\n",
    "\n",
    "# Fit a logistic regression model to our data\n",
    "\n",
    "model = RandomForestClassifier(random_state=5)\n",
    "model.fit(X_train, y_train)\n",
    "\n",
    "# Obtain model predictions\n",
    "\n",
    "y_predicted = model.predict(X_test)\n",
    "\n",
    "# Predict probabilities\n",
    "\n",
    "probs = model.predict_proba(X_test)\n",
    "\n",
    "# Calculate average precision \n",
    "\n",
    "average_precision = average_precision_score(y_test, y_predicted)\n",
    "\n",
    "# Obtain precision and recall \n",
    "\n",
    "precision, recall, _ = precision_recall_curve(y_test, y_predicted)\n",
    "\n",
    "# Plot the recall precision tradeoff\n",
    "\n",
    "plot_pr_curve(recall, precision, average_precision)\n",
    "\n",
    "# Print the classifcation report and confusion matrix\n",
    "\n",
    "print(accuracy_score(y_test, y_predicted))\n",
    "print(\"AUC ROC score: \", roc_auc_score(y_test, probs[:,1]))\n",
    "\n",
    "print('Classification report:\\n', classification_report(y_test, y_predicted))\n",
    "print('Confusion matrix:\\n',confusion_matrix(y_true = y_test, y_pred = y_predicted))"
   ]
  },
  {
   "cell_type": "markdown",
   "metadata": {},
   "source": [
    "Accuracy score = Precision = 0.95. The rate of true positive in all positive cases.\n",
    "Recall = 0.73. The rate of true positive in all true cases.\n",
    "F1-score = 0.83 False positives cases = 6, which is much better."
   ]
  },
  {
   "cell_type": "markdown",
   "metadata": {},
   "source": [
    "### Random Forest Classifier with SMOTE Data Catch Fraud"
   ]
  },
  {
   "cell_type": "code",
   "execution_count": 33,
   "metadata": {},
   "outputs": [
    {
     "name": "stderr",
     "output_type": "stream",
     "text": [
      "/Users/maria.doda/opt/anaconda3/lib/python3.7/site-packages/sklearn/utils/validation.py:724: DataConversionWarning: A column-vector y was passed when a 1d array was expected. Please change the shape of y to (n_samples, ), for example using ravel().\n",
      "  y = column_or_1d(y, warn=True)\n",
      "/Users/maria.doda/opt/anaconda3/lib/python3.7/site-packages/sklearn/ensemble/forest.py:245: FutureWarning: The default value of n_estimators will change from 10 in version 0.20 to 100 in 0.22.\n",
      "  \"10 in version 0.20 to 100 in 0.22.\", FutureWarning)\n"
     ]
    },
    {
     "name": "stdout",
     "output_type": "stream",
     "text": [
      "0.9994616293903538\n",
      "AUC ROC score:  0.94127445106724\n",
      "Classifcation report:\n",
      "               precision    recall  f1-score   support\n",
      "\n",
      "         0.0       1.00      1.00      1.00     85296\n",
      "         1.0       0.89      0.78      0.83       147\n",
      "\n",
      "    accuracy                           1.00     85443\n",
      "   macro avg       0.95      0.89      0.92     85443\n",
      "weighted avg       1.00      1.00      1.00     85443\n",
      "\n",
      "Confusion matrix:\n",
      " [[85282    14]\n",
      " [   32   115]]\n"
     ]
    }
   ],
   "source": [
    "# Import the pipeline module we need for this from imblearn\n",
    "\n",
    "from imblearn.pipeline import Pipeline \n",
    "from imblearn.over_sampling import BorderlineSMOTE\n",
    "\n",
    "# Define which resampling method and which ML model to use in the pipeline\n",
    "\n",
    "resampling = BorderlineSMOTE(kind='borderline-2',random_state=0) \n",
    "model = RandomForestClassifier() \n",
    "\n",
    "# Define the pipeline, tell it to combine SMOTE with the Logistic Regression model\n",
    "\n",
    "pipeline = Pipeline([('SMOTE', resampling), ('Random Forest Classifier', model)])\n",
    "\n",
    "# Fit your pipeline onto your training set and obtain predictions by fitting the model onto the test data \n",
    "\n",
    "pipeline.fit(X_train, y_train) \n",
    "y_predicted = pipeline.predict(X_test)\n",
    "\n",
    "# Predict probabilities\n",
    "\n",
    "probs = model.predict_proba(X_test)\n",
    "\n",
    "print(accuracy_score(y_test, y_predicted))\n",
    "print(\"AUC ROC score: \", roc_auc_score(y_test, probs[:,1]))\n",
    "\n",
    "# Obtain the results from the classification report and confusion matrix \n",
    "\n",
    "print('Classifcation report:\\n', classification_report(y_test, y_predicted))\n",
    "print('Confusion matrix:\\n',  confusion_matrix(y_true = y_test, y_pred = y_predicted))"
   ]
  },
  {
   "cell_type": "markdown",
   "metadata": {},
   "source": [
    "### Random Forest Classifier Model adjustments"
   ]
  },
  {
   "cell_type": "code",
   "execution_count": 34,
   "metadata": {},
   "outputs": [
    {
     "name": "stderr",
     "output_type": "stream",
     "text": [
      "/Users/maria.doda/opt/anaconda3/lib/python3.7/site-packages/ipykernel_launcher.py:26: DataConversionWarning: A column-vector y was passed when a 1d array was expected. Please change the shape of y to (n_samples,), for example using ravel().\n"
     ]
    },
    {
     "data": {
      "image/png": "[encoded data removed]",
      "text/plain": [
       "<Figure size 432x288 with 1 Axes>"
      ]
     },
     "metadata": {
      "needs_background": "light"
     },
     "output_type": "display_data"
    },
    {
     "name": "stdout",
     "output_type": "stream",
     "text": [
      "auc roc score:  0.972386276776702\n",
      "Classifcation report:\n",
      "               precision    recall  f1-score   support\n",
      "\n",
      "         0.0       1.00      1.00      1.00     85296\n",
      "         1.0       0.85      0.82      0.83       147\n",
      "\n",
      "    accuracy                           1.00     85443\n",
      "   macro avg       0.92      0.91      0.92     85443\n",
      "weighted avg       1.00      1.00      1.00     85443\n",
      "\n",
      "Confusion matrix:\n",
      " [[85274    22]\n",
      " [   27   120]]\n"
     ]
    }
   ],
   "source": [
    "# Import the Random Forest Classifier model from sklearn\n",
    "\n",
    "from sklearn.model_selection import train_test_split\n",
    "from sklearn.ensemble import RandomForestClassifier\n",
    "from sklearn.metrics import accuracy_score,roc_auc_score\n",
    "from sklearn.metrics import classification_report\n",
    "from sklearn.metrics import confusion_matrix\n",
    "\n",
    "# Create the training and testing sets\n",
    "\n",
    "X_train, X_test, y_train, y_test = train_test_split(X, y, test_size=.3, random_state=0)\n",
    "\n",
    "# Define the model with balanced subsample\n",
    "\n",
    "model = RandomForestClassifier(bootstrap=True,\n",
    "                               class_weight={0:1, 1:12}, # 0: non-fraud , 1:fraud\n",
    "                               criterion='entropy',\n",
    "                               max_depth=10, # Change depth of model\n",
    "                               min_samples_leaf=10, # Change the number of samples in leaf nodes\n",
    "                               n_estimators=20, # Change the number of trees to use\n",
    "                               n_jobs=-1, \n",
    "                               random_state=5)\n",
    "\n",
    "# Fit your training model to your training set\n",
    "\n",
    "model.fit(X_train, y_train)\n",
    "\n",
    "# Obtain the predicted values and probabilities from the model \n",
    "\n",
    "y_predicted = model.predict(X_test)\n",
    "\n",
    "# Calculate probs\n",
    "\n",
    "probs = model.predict_proba(X_test)\n",
    "\n",
    "# Calculate average precision \n",
    "\n",
    "average_precision = average_precision_score(y_test, y_predicted)\n",
    "\n",
    "# Obtain precision and recall \n",
    "\n",
    "precision, recall, _ = precision_recall_curve(y_test, y_predicted)\n",
    "\n",
    "# Plot the recall precision tradeoff\n",
    "\n",
    "plot_pr_curve(recall, precision, average_precision)\n",
    "\n",
    "# Print the roc auc score, the classification report and confusion matrix\n",
    "\n",
    "print(\"auc roc score: \", roc_auc_score(y_test, probs[:,1]))\n",
    "print('Classifcation report:\\n', classification_report(y_test, y_predicted))\n",
    "print('Confusion matrix:\\n', confusion_matrix(y_test, y_predicted))"
   ]
  },
  {
   "cell_type": "markdown",
   "metadata": {},
   "source": [
    "The model results don't improve drastically."
   ]
  },
  {
   "cell_type": "markdown",
   "metadata": {},
   "source": [
    "GridSearchCV to find optimal parameters for Random Forest Classifier"
   ]
  },
  {
   "cell_type": "code",
   "execution_count": 35,
   "metadata": {},
   "outputs": [
    {
     "name": "stderr",
     "output_type": "stream",
     "text": [
      "/Users/maria.doda/opt/anaconda3/lib/python3.7/site-packages/sklearn/model_selection/_search.py:715: DataConversionWarning: A column-vector y was passed when a 1d array was expected. Please change the shape of y to (n_samples,), for example using ravel().\n",
      "  self.best_estimator_.fit(X, y, **fit_params)\n"
     ]
    },
    {
     "data": {
      "text/plain": [
       "{'criterion': 'entropy',\n",
       " 'max_depth': 8,\n",
       " 'max_features': 'auto',\n",
       " 'n_estimators': 30}"
      ]
     },
     "execution_count": 35,
     "metadata": {},
     "output_type": "execute_result"
    }
   ],
   "source": [
    "from sklearn.model_selection import GridSearchCV\n",
    "from sklearn.ensemble import RandomForestClassifier\n",
    "\n",
    "# Define the parameter sets to test\n",
    "\n",
    "param_grid = {\n",
    "    'n_estimators': [1, 30], \n",
    "    'max_features': ['auto', 'log2'],  \n",
    "    'max_depth': [4, 8], \n",
    "    'criterion': ['gini', 'entropy']\n",
    "}\n",
    "\n",
    "# Define the model to use\n",
    "\n",
    "model = RandomForestClassifier(random_state=5)\n",
    "\n",
    "# Combine the parameter sets with the defined model\n",
    "\n",
    "CV_model = GridSearchCV(estimator=model, param_grid=param_grid, cv=5, scoring='recall', n_jobs=-1)\n",
    "\n",
    "# Fit the model to our training data and obtain best parameters\n",
    "\n",
    "CV_model.fit(X_train, y_train)\n",
    "CV_model.best_params_"
   ]
  },
  {
   "cell_type": "markdown",
   "metadata": {},
   "source": [
    "### Model results using GridSearchCV"
   ]
  },
  {
   "cell_type": "code",
   "execution_count": 36,
   "metadata": {},
   "outputs": [
    {
     "name": "stderr",
     "output_type": "stream",
     "text": [
      "/Users/maria.doda/opt/anaconda3/lib/python3.7/site-packages/ipykernel_launcher.py:19: DataConversionWarning: A column-vector y was passed when a 1d array was expected. Please change the shape of y to (n_samples,), for example using ravel().\n"
     ]
    },
    {
     "data": {
      "image/png": "[encoded data removed]",
      "text/plain": [
       "<Figure size 432x288 with 1 Axes>"
      ]
     },
     "metadata": {
      "needs_background": "light"
     },
     "output_type": "display_data"
    },
    {
     "name": "stdout",
     "output_type": "stream",
     "text": [
      "roc_auc_score: 0.9783260964299432\n",
      "Classification report:\n",
      "               precision    recall  f1-score   support\n",
      "\n",
      "         0.0       1.00      1.00      1.00     85296\n",
      "         1.0       0.86      0.81      0.83       147\n",
      "\n",
      "    accuracy                           1.00     85443\n",
      "   macro avg       0.93      0.90      0.92     85443\n",
      "weighted avg       1.00      1.00      1.00     85443\n",
      "\n",
      "Confusion_matrix:\n",
      " [[85276    20]\n",
      " [   28   119]]\n"
     ]
    }
   ],
   "source": [
    "from sklearn.metrics import accuracy_score,roc_auc_score\n",
    "from sklearn.metrics import classification_report\n",
    "from sklearn.metrics import confusion_matrix\n",
    "\n",
    "# Build a RandomForestClassifier using the GridSearchCV parameters\n",
    "\n",
    "model = RandomForestClassifier(bootstrap=True,\n",
    "                               class_weight = {0:1,1:12},\n",
    "                               criterion = 'entropy',\n",
    "                               n_estimators = 30,\n",
    "                               max_features = 'auto',\n",
    "                               min_samples_leaf = 10,\n",
    "                               max_depth = 8,\n",
    "                               n_jobs = -1,\n",
    "                               random_state = 5)\n",
    "\n",
    "# Fit the model to your training data and get the predicted results\n",
    "\n",
    "model.fit(X_train,y_train)\n",
    "y_predicted = model.predict(X_test)\n",
    "\n",
    "# Calculate average precision \n",
    "\n",
    "average_precision = average_precision_score(y_test, y_predicted)\n",
    "\n",
    "# Obtain precision and recall \n",
    "\n",
    "precision, recall, _ = precision_recall_curve(y_test, y_predicted)\n",
    "\n",
    "# Plot the recall precision tradeoff\n",
    "\n",
    "plot_pr_curve(recall, precision, average_precision)\n",
    "\n",
    "# Print the roc_auc_score,Classifcation report and Confusin matrix\n",
    "\n",
    "probs = model.predict_proba(X_test)\n",
    "print('roc_auc_score:', roc_auc_score(y_test,probs[:,1]))\n",
    "print('Classification report:\\n',classification_report(y_test,y_predicted))\n",
    "print('Confusion_matrix:\\n',confusion_matrix(y_test,y_predicted))"
   ]
  },
  {
   "cell_type": "markdown",
   "metadata": {},
   "source": [
    "The results of this model just does not perform better."
   ]
  },
  {
   "cell_type": "markdown",
   "metadata": {},
   "source": [
    "## 6. Voting Classifier"
   ]
  },
  {
   "cell_type": "code",
   "execution_count": 37,
   "metadata": {},
   "outputs": [
    {
     "name": "stderr",
     "output_type": "stream",
     "text": [
      "/Users/maria.doda/opt/anaconda3/lib/python3.7/site-packages/sklearn/preprocessing/label.py:219: DataConversionWarning: A column-vector y was passed when a 1d array was expected. Please change the shape of y to (n_samples, ), for example using ravel().\n",
      "  y = column_or_1d(y, warn=True)\n",
      "/Users/maria.doda/opt/anaconda3/lib/python3.7/site-packages/sklearn/preprocessing/label.py:252: DataConversionWarning: A column-vector y was passed when a 1d array was expected. Please change the shape of y to (n_samples, ), for example using ravel().\n",
      "  y = column_or_1d(y, warn=True)\n",
      "/Users/maria.doda/opt/anaconda3/lib/python3.7/site-packages/sklearn/linear_model/logistic.py:432: FutureWarning: Default solver will be changed to 'lbfgs' in 0.22. Specify a solver to silence this warning.\n",
      "  FutureWarning)\n"
     ]
    },
    {
     "name": "stdout",
     "output_type": "stream",
     "text": [
      "Classifier report:\n",
      "               precision    recall  f1-score   support\n",
      "\n",
      "         0.0       1.00      1.00      1.00     85296\n",
      "         1.0       0.85      0.82      0.83       147\n",
      "\n",
      "    accuracy                           1.00     85443\n",
      "   macro avg       0.92      0.91      0.92     85443\n",
      "weighted avg       1.00      1.00      1.00     85443\n",
      "\n",
      "Confusion matrix:\n",
      " [[85274    22]\n",
      " [   27   120]]\n"
     ]
    }
   ],
   "source": [
    "# Import modules \n",
    "\n",
    "from sklearn.model_selection import train_test_split\n",
    "from sklearn.linear_model import LogisticRegression\n",
    "from sklearn.tree import DecisionTreeClassifier\n",
    "from sklearn.ensemble import RandomForestClassifier\n",
    "from sklearn.ensemble import VotingClassifier\n",
    "\n",
    "from sklearn.metrics import roc_auc_score\n",
    "from sklearn.metrics import classification_report\n",
    "from sklearn.metrics import confusion_matrix\n",
    "\n",
    "# Create the training and testing sets\n",
    "\n",
    "X_train, X_test, y_train, y_test = train_test_split(X, y, test_size=.3, random_state=0)\n",
    "\n",
    "# Define the three classifiers to use in the ensemble\n",
    "\n",
    "clf1 = LogisticRegression(class_weight={0:1,1:15},random_state=5)\n",
    "clf2 = RandomForestClassifier(class_weight={0:1,1:12},\n",
    "                              criterion='entropy',\n",
    "                              max_depth=10,\n",
    "                              max_features='auto',\n",
    "                              min_samples_leaf=10, \n",
    "                              n_estimators=20,\n",
    "                              n_jobs=-1,\n",
    "                              random_state=5)\n",
    "clf3 = DecisionTreeClassifier(class_weight='balanced',random_state=5)\n",
    "\n",
    "# Combine the classifiers in the ensemble model\n",
    "\n",
    "ensemble_model = VotingClassifier(estimators=[('lr', clf1), ('rf', clf2), ('dt', clf3)], voting='hard')\n",
    "\n",
    "# Fit the model to your training data and get the predicted results\n",
    "\n",
    "ensemble_model.fit(X_train,y_train)\n",
    "y_predicted = ensemble_model.predict(X_test)\n",
    "\n",
    "# print roc auc score , Classification report and Confusion matrix of the model\n",
    "\n",
    "print('Classifier report:\\n',classification_report(y_test,y_predicted))\n",
    "print('Confusion matrix:\\n',confusion_matrix(y_test,y_predicted))"
   ]
  },
  {
   "cell_type": "markdown",
   "metadata": {},
   "source": [
    "By combining the classifiers, we can take the best of multiple models.\n",
    "By combining these together we manage to improve performance."
   ]
  },
  {
   "cell_type": "code",
   "execution_count": 38,
   "metadata": {},
   "outputs": [
    {
     "name": "stderr",
     "output_type": "stream",
     "text": [
      "/Users/maria.doda/opt/anaconda3/lib/python3.7/site-packages/sklearn/preprocessing/label.py:219: DataConversionWarning: A column-vector y was passed when a 1d array was expected. Please change the shape of y to (n_samples, ), for example using ravel().\n",
      "  y = column_or_1d(y, warn=True)\n",
      "/Users/maria.doda/opt/anaconda3/lib/python3.7/site-packages/sklearn/preprocessing/label.py:252: DataConversionWarning: A column-vector y was passed when a 1d array was expected. Please change the shape of y to (n_samples, ), for example using ravel().\n",
      "  y = column_or_1d(y, warn=True)\n",
      "/Users/maria.doda/opt/anaconda3/lib/python3.7/site-packages/sklearn/linear_model/logistic.py:432: FutureWarning: Default solver will be changed to 'lbfgs' in 0.22. Specify a solver to silence this warning.\n",
      "  FutureWarning)\n"
     ]
    },
    {
     "data": {
      "image/png": "[encoded data removed]",
      "text/plain": [
       "<Figure size 432x288 with 1 Axes>"
      ]
     },
     "metadata": {
      "needs_background": "light"
     },
     "output_type": "display_data"
    },
    {
     "name": "stdout",
     "output_type": "stream",
     "text": [
      "Classifier report:\n",
      "               precision    recall  f1-score   support\n",
      "\n",
      "         0.0       1.00      1.00      1.00     85296\n",
      "         1.0       0.85      0.82      0.83       147\n",
      "\n",
      "    accuracy                           1.00     85443\n",
      "   macro avg       0.93      0.91      0.92     85443\n",
      "weighted avg       1.00      1.00      1.00     85443\n",
      "\n",
      "Confusion matrix:\n",
      " [[85275    21]\n",
      " [   27   120]]\n"
     ]
    }
   ],
   "source": [
    "# Adjust weights within the Voting Classifier\n",
    "\n",
    "# Define the ensemble model\n",
    "\n",
    "ensemble_model = VotingClassifier(estimators=[('lr', clf1), ('rf', clf2), ('gnb', clf3)], \n",
    "                                  voting='soft', \n",
    "                                  weights=[1, 4, 1], \n",
    "                                  flatten_transform=True)\n",
    "\n",
    "# Fit the model to your training data and get the predicted results\n",
    "\n",
    "ensemble_model.fit(X_train,y_train)\n",
    "y_predicted = ensemble_model.predict(X_test)\n",
    "\n",
    "# Calculate average precision \n",
    "\n",
    "average_precision = average_precision_score(y_test, y_predicted)\n",
    "\n",
    "# Obtain precision and recall \n",
    "\n",
    "precision, recall, _ = precision_recall_curve(y_test, y_predicted)\n",
    "\n",
    "# Plot the recall precision tradeoff\n",
    "\n",
    "plot_pr_curve(recall, precision, average_precision)\n",
    "\n",
    "# print roc auc score , Classification report and Confusion matrix of the model\n",
    "\n",
    "print('Classifier report:\\n',classification_report(y_test,y_predicted))\n",
    "print('Confusion matrix:\\n',confusion_matrix(y_test,y_predicted))"
   ]
  },
  {
   "cell_type": "code",
   "execution_count": 39,
   "metadata": {},
   "outputs": [
    {
     "data": {
      "text/plain": [
       "[LogisticRegression(C=1.0, class_weight={0: 1, 1: 15}, dual=False,\n",
       "                    fit_intercept=True, intercept_scaling=1, l1_ratio=None,\n",
       "                    max_iter=100, multi_class='warn', n_jobs=None, penalty='l2',\n",
       "                    random_state=5, solver='warn', tol=0.0001, verbose=0,\n",
       "                    warm_start=False),\n",
       " RandomForestClassifier(bootstrap=True, class_weight={0: 1, 1: 12},\n",
       "                        criterion='entropy', max_depth=10, max_features='auto',\n",
       "                        max_leaf_nodes=None, min_impurity_decrease=0.0,\n",
       "                        min_impurity_split=None, min_samples_leaf=10,\n",
       "                        min_samples_split=2, min_weight_fraction_leaf=0.0,\n",
       "                        n_estimators=20, n_jobs=-1, oob_score=False,\n",
       "                        random_state=5, verbose=0, warm_start=False),\n",
       " DecisionTreeClassifier(class_weight='balanced', criterion='gini',\n",
       "                        max_depth=None, max_features=None, max_leaf_nodes=None,\n",
       "                        min_impurity_decrease=0.0, min_impurity_split=None,\n",
       "                        min_samples_leaf=1, min_samples_split=2,\n",
       "                        min_weight_fraction_leaf=0.0, presort=False,\n",
       "                        random_state=5, splitter='best')]"
      ]
     },
     "execution_count": 39,
     "metadata": {},
     "output_type": "execute_result"
    }
   ],
   "source": [
    "ensemble_model.estimators_"
   ]
  },
  {
   "cell_type": "markdown",
   "metadata": {},
   "source": [
    "The model performance does not improve."
   ]
  },
  {
   "cell_type": "markdown",
   "metadata": {},
   "source": [
    "## 7. KMeans Clustering"
   ]
  },
  {
   "cell_type": "markdown",
   "metadata": {},
   "source": [
    "### Unlabeled train and test dataset"
   ]
  },
  {
   "cell_type": "code",
   "execution_count": 40,
   "metadata": {},
   "outputs": [],
   "source": [
    "from sklearn.model_selection import train_test_split\n",
    "from sklearn.preprocessing import normalize\n",
    "\n",
    "# Split the data into train set and test set\n",
    "\n",
    "train,test = train_test_split(df,test_size=0.3,random_state=0)\n",
    "\n",
    "# Get the arrays of features and labels in train dataset\n",
    "\n",
    "features_train = train.drop(['Time','Class'],axis=1)\n",
    "features_train = features_train.values\n",
    "labels_train = pd.DataFrame(train[['Class']])\n",
    "labels_train = labels_train.values\n",
    "\n",
    "# Get the arrays of features and labels in test dataset\n",
    "\n",
    "features_test = test.drop(['Time','Class'],axis=1)\n",
    "features_test = features_test.values\n",
    "labels_test = pd.DataFrame(test[[\"Class\"]])\n",
    "labels_test = labels_test.values\n",
    "\n",
    "# Normalize the features in both train and test dataset\n",
    "\n",
    "features_train = normalize(features_train)\n",
    "features_test = normalize(features_test)"
   ]
  },
  {
   "cell_type": "markdown",
   "metadata": {},
   "source": [
    "### Build the model"
   ]
  },
  {
   "cell_type": "code",
   "execution_count": 41,
   "metadata": {},
   "outputs": [
    {
     "name": "stdout",
     "output_type": "stream",
     "text": [
      "True\n"
     ]
    }
   ],
   "source": [
    "from sklearn.cluster import KMeans\n",
    "from sklearn.metrics import confusion_matrix\n",
    "\n",
    "model = KMeans(n_clusters=2,random_state=0)\n",
    "model.fit(features_train)\n",
    "labels_train_predicted = model.predict(features_train)\n",
    "labels_test_predicted = model.predict(features_test)\n",
    "\n",
    "# Decide if model predicted label is aligned with true label \n",
    "\n",
    "true_negative,false_positive,false_negative,true_positive = confusion_matrix(labels_train,labels_train_predicted).ravel()\n",
    "reassignflag = true_negative + true_positive < false_positive + false_negative\n",
    "print(reassignflag)\n",
    "\n",
    "\n",
    "labels_test_predicted = 1- labels_test_predicted"
   ]
  },
  {
   "cell_type": "markdown",
   "metadata": {},
   "source": [
    "### Model Evaluation"
   ]
  },
  {
   "cell_type": "code",
   "execution_count": 42,
   "metadata": {},
   "outputs": [
    {
     "name": "stdout",
     "output_type": "stream",
     "text": [
      "Confusion Matrix:\n",
      " [[67805 17491]\n",
      " [   56    91]]\n",
      "kmeans_precison_score: 0.0051757479240131955\n",
      "kmeans_recall_score: 0.6190476190476191\n",
      "kmeans_accuracy_score: 0.7946350198377866\n",
      "kmeans_f1_score: 0.010265666422246038\n"
     ]
    }
   ],
   "source": [
    "from sklearn.metrics import confusion_matrix, precision_score, recall_score, accuracy_score,f1_score\n",
    "\n",
    "# Calculating confusion matrix for kmeans\n",
    "\n",
    "print('Confusion Matrix:\\n',confusion_matrix(labels_test,labels_test_predicted))\n",
    "\n",
    "# Scoring kmeans\n",
    "\n",
    "print('kmeans_precison_score:', precision_score(labels_test,labels_test_predicted))\n",
    "print('kmeans_recall_score:', recall_score(labels_test,labels_test_predicted))\n",
    "print('kmeans_accuracy_score:', accuracy_score(labels_test,labels_test_predicted))\n",
    "print('kmeans_f1_score:',f1_score(labels_test,labels_test_predicted))"
   ]
  },
  {
   "cell_type": "markdown",
   "metadata": {},
   "source": [
    "We can detect 91 out of 147 fraud cases in the test dataset.\n",
    "But there are 17361 false positive cases which indicated that our KMeans model needs to be improved by selecting good features."
   ]
  },
  {
   "cell_type": "markdown",
   "metadata": {},
   "source": [
    "## 8. MiniBatchKMeans Clustering"
   ]
  },
  {
   "cell_type": "code",
   "execution_count": 43,
   "metadata": {},
   "outputs": [],
   "source": [
    "from sklearn.model_selection import train_test_split\n",
    "from sklearn.preprocessing import normalize\n",
    "\n",
    "# Split the data into train set and test set\n",
    "\n",
    "train,test = train_test_split(df,test_size=0.3,random_state=0)\n",
    "\n",
    "# Get the arrays of features and labels in train dataset\n",
    "\n",
    "features_train = train.drop(['Time','Class'],axis=1)\n",
    "features_train = features_train.values\n",
    "labels_train = pd.DataFrame(train[['Class']])\n",
    "labels_train = labels_train.values\n",
    "\n",
    "# Get the arrays of features and labels in test dataset\n",
    "\n",
    "features_test = test.drop(['Time','Class'],axis=1)\n",
    "features_test = features_test.values\n",
    "labels_test = pd.DataFrame(test[[\"Class\"]])\n",
    "labels_test = labels_test.values\n",
    "\n",
    "# Normalize the features in both train and test dataset\n",
    "\n",
    "features_train = normalize(features_train)\n",
    "features_test = normalize(features_test)"
   ]
  },
  {
   "cell_type": "code",
   "execution_count": 44,
   "metadata": {},
   "outputs": [
    {
     "name": "stdout",
     "output_type": "stream",
     "text": [
      "False\n"
     ]
    }
   ],
   "source": [
    "from sklearn.cluster import MiniBatchKMeans\n",
    "from sklearn.metrics import confusion_matrix\n",
    "\n",
    "model = MiniBatchKMeans(n_clusters=2,random_state=0)\n",
    "model.fit(features_train)\n",
    "labels_train_predicted = model.predict(features_train)\n",
    "labels_test_predicted = model.predict(features_test)\n",
    "\n",
    "# Decide if model predicted label is aligned with true label \n",
    "\n",
    "true_negative,false_positive,false_negative,true_positive = confusion_matrix(labels_train,labels_train_predicted).ravel()\n",
    "reassignflag = true_negative + true_positive < false_positive + false_negative\n",
    "print(reassignflag)"
   ]
  },
  {
   "cell_type": "code",
   "execution_count": 45,
   "metadata": {},
   "outputs": [
    {
     "name": "stdout",
     "output_type": "stream",
     "text": [
      "Confusion Matrix:\n",
      " [[67837 17459]\n",
      " [   56    91]]\n",
      "kmeans_precison_score: 0.005185185185185185\n",
      "kmeans_recall_score: 0.6190476190476191\n",
      "kmeans_accuracy_score: 0.7950095385227579\n",
      "kmeans_f1_score: 0.01028422896536136\n"
     ]
    }
   ],
   "source": [
    "from sklearn.metrics import confusion_matrix, precision_score, recall_score, accuracy_score,f1_score\n",
    "\n",
    "# Calculating confusion matrix for kmeans\n",
    "\n",
    "print('Confusion Matrix:\\n',confusion_matrix(labels_test,labels_test_predicted))\n",
    "\n",
    "# Scoring kmeans\n",
    "\n",
    "print('kmeans_precison_score:', precision_score(labels_test,labels_test_predicted))\n",
    "print('kmeans_recall_score:', recall_score(labels_test,labels_test_predicted))\n",
    "print('kmeans_accuracy_score:', accuracy_score(labels_test,labels_test_predicted))\n",
    "print('kmeans_f1_score:',f1_score(labels_test,labels_test_predicted))"
   ]
  },
  {
   "cell_type": "markdown",
   "metadata": {},
   "source": [
    "We can detect 91 out of 147 fraud cases in the test dataset.\n",
    "But there are 17341 false positive cases which indicated that our MiniBatchKMeans model needs to be improved by selecting good features."
   ]
  },
  {
   "cell_type": "markdown",
   "metadata": {},
   "source": [
    "## 9. Autoencoders"
   ]
  },
  {
   "cell_type": "markdown",
   "metadata": {},
   "source": [
    "### Prepare training data and testing data"
   ]
  },
  {
   "cell_type": "code",
   "execution_count": 46,
   "metadata": {},
   "outputs": [
    {
     "data": {
      "text/plain": [
       "(199019, 31)"
      ]
     },
     "execution_count": 46,
     "metadata": {},
     "output_type": "execute_result"
    }
   ],
   "source": [
    "from sklearn.model_selection import train_test_split\n",
    "from sklearn.preprocessing import StandardScaler\n",
    "\n",
    "# Make another copy of df and drop the unimportant \"Time\" feature\n",
    "\n",
    "data = df.drop(['Time'], axis=1) \n",
    "\n",
    "# Use scikit’s StandardScaler on the \"Amount\" feature\n",
    "# The scaler removes the mean and scales the values to unit variance\n",
    "\n",
    "data['Amount'] = StandardScaler().fit_transform(data['Amount'].values.reshape(-1, 1))\n",
    "\n",
    "# Create the training and testing sets\n",
    "\n",
    "X1_train, X1_test = train_test_split(data, test_size=.3, random_state=0)\n",
    "X1_train = X1_train[X1_train.Class == 0] # train the model on normal transactions\n",
    "X1_train = X1_train.drop(['Class'], axis=1)\n",
    "\n",
    "y1_test = X1_test['Class']\n",
    "X1_test  = X1_test.drop(['Class'], axis=1) #drop the class column\n",
    "\n",
    "\n",
    "#transform to ndarray\n",
    "\n",
    "X1_train = X1_train.values\n",
    "X1_test = X1_test.values\n",
    "X1_train.shape"
   ]
  },
  {
   "cell_type": "markdown",
   "metadata": {},
   "source": [
    "### Build the Autoencoder Model\n"
   ]
  },
  {
   "cell_type": "code",
   "execution_count": 47,
   "metadata": {
    "scrolled": true
   },
   "outputs": [
    {
     "ename": "ImportError",
     "evalue": "Keras requires TensorFlow 2.2 or higher. Install TensorFlow via `pip install tensorflow`",
     "output_type": "error",
     "traceback": [
      "\u001b[0;31m---------------------------------------------------------------------------\u001b[0m",
      "\u001b[0;31mModuleNotFoundError\u001b[0m                       Traceback (most recent call last)",
      "\u001b[0;32m~/opt/anaconda3/lib/python3.7/site-packages/keras/__init__.py\u001b[0m in \u001b[0;36m<module>\u001b[0;34m\u001b[0m\n\u001b[1;32m      2\u001b[0m \u001b[0;32mtry\u001b[0m\u001b[0;34m:\u001b[0m\u001b[0;34m\u001b[0m\u001b[0;34m\u001b[0m\u001b[0m\n\u001b[0;32m----> 3\u001b[0;31m     \u001b[0;32mfrom\u001b[0m \u001b[0mtensorflow\u001b[0m\u001b[0;34m.\u001b[0m\u001b[0mkeras\u001b[0m\u001b[0;34m.\u001b[0m\u001b[0mlayers\u001b[0m\u001b[0;34m.\u001b[0m\u001b[0mexperimental\u001b[0m\u001b[0;34m.\u001b[0m\u001b[0mpreprocessing\u001b[0m \u001b[0;32mimport\u001b[0m \u001b[0mRandomRotation\u001b[0m\u001b[0;34m\u001b[0m\u001b[0;34m\u001b[0m\u001b[0m\n\u001b[0m\u001b[1;32m      4\u001b[0m \u001b[0;32mexcept\u001b[0m \u001b[0mImportError\u001b[0m\u001b[0;34m:\u001b[0m\u001b[0;34m\u001b[0m\u001b[0;34m\u001b[0m\u001b[0m\n",
      "\u001b[0;31mModuleNotFoundError\u001b[0m: No module named 'tensorflow.keras.layers.experimental.preprocessing'",
      "\nDuring handling of the above exception, another exception occurred:\n",
      "\u001b[0;31mImportError\u001b[0m                               Traceback (most recent call last)",
      "\u001b[0;32m<ipython-input-47-7329610ee018>\u001b[0m in \u001b[0;36m<module>\u001b[0;34m\u001b[0m\n\u001b[1;32m      1\u001b[0m \u001b[0;32mimport\u001b[0m \u001b[0mtensorflow\u001b[0m \u001b[0;32mas\u001b[0m \u001b[0mtf\u001b[0m\u001b[0;34m\u001b[0m\u001b[0;34m\u001b[0m\u001b[0m\n\u001b[0;32m----> 2\u001b[0;31m \u001b[0;32mfrom\u001b[0m \u001b[0mkeras\u001b[0m\u001b[0;34m.\u001b[0m\u001b[0mmodels\u001b[0m \u001b[0;32mimport\u001b[0m \u001b[0mModel\u001b[0m\u001b[0;34m,\u001b[0m \u001b[0mload_model\u001b[0m\u001b[0;34m\u001b[0m\u001b[0;34m\u001b[0m\u001b[0m\n\u001b[0m\u001b[1;32m      3\u001b[0m \u001b[0;32mfrom\u001b[0m \u001b[0mkeras\u001b[0m\u001b[0;34m.\u001b[0m\u001b[0mlayers\u001b[0m \u001b[0;32mimport\u001b[0m \u001b[0mInput\u001b[0m\u001b[0;34m,\u001b[0m \u001b[0mDense\u001b[0m\u001b[0;34m\u001b[0m\u001b[0;34m\u001b[0m\u001b[0m\n\u001b[1;32m      4\u001b[0m \u001b[0;32mfrom\u001b[0m \u001b[0mkeras\u001b[0m\u001b[0;34m.\u001b[0m\u001b[0mcallbacks\u001b[0m \u001b[0;32mimport\u001b[0m \u001b[0mModelCheckpoint\u001b[0m\u001b[0;34m,\u001b[0m \u001b[0mTensorBoard\u001b[0m\u001b[0;34m\u001b[0m\u001b[0;34m\u001b[0m\u001b[0m\n\u001b[1;32m      5\u001b[0m \u001b[0;32mfrom\u001b[0m \u001b[0mkeras\u001b[0m \u001b[0;32mimport\u001b[0m \u001b[0mregularizers\u001b[0m\u001b[0;34m\u001b[0m\u001b[0;34m\u001b[0m\u001b[0m\n",
      "\u001b[0;32m~/opt/anaconda3/lib/python3.7/site-packages/keras/__init__.py\u001b[0m in \u001b[0;36m<module>\u001b[0;34m\u001b[0m\n\u001b[1;32m      4\u001b[0m \u001b[0;32mexcept\u001b[0m \u001b[0mImportError\u001b[0m\u001b[0;34m:\u001b[0m\u001b[0;34m\u001b[0m\u001b[0;34m\u001b[0m\u001b[0m\n\u001b[1;32m      5\u001b[0m     raise ImportError(\n\u001b[0;32m----> 6\u001b[0;31m         \u001b[0;34m'Keras requires TensorFlow 2.2 or higher. '\u001b[0m\u001b[0;34m\u001b[0m\u001b[0;34m\u001b[0m\u001b[0m\n\u001b[0m\u001b[1;32m      7\u001b[0m         'Install TensorFlow via `pip install tensorflow`')\n\u001b[1;32m      8\u001b[0m \u001b[0;34m\u001b[0m\u001b[0m\n",
      "\u001b[0;31mImportError\u001b[0m: Keras requires TensorFlow 2.2 or higher. Install TensorFlow via `pip install tensorflow`"
     ]
    }
   ],
   "source": [
    "import tensorflow as tf\n",
    "from keras.models import Model, load_model\n",
    "from keras.layers import Input, Dense\n",
    "from keras.callbacks import ModelCheckpoint, TensorBoard\n",
    "from keras import regularizers\n",
    "\n",
    "input_dim = X1_train.shape[1] #num of columns, 29\n",
    "encoding_dim = 14\n",
    "hidden_dim = int(encoding_dim / 2)\n",
    "learning_rate = 1e-5\n",
    "\n",
    "input_layer = Input(shape=(input_dim, ))\n",
    "encoder = Dense(encoding_dim, \n",
    "                activation=\"tanh\", \n",
    "                activity_regularizer=regularizers.l1(learning_rate))(input_layer)\n",
    "encoder = Dense(hidden_dim, activation=\"relu\")(encoder)\n",
    "decoder = Dense(hidden_dim, activation='tanh')(encoder)\n",
    "decoder = Dense(input_dim, activation='relu')(decoder)\n",
    "autoencoder = Model(inputs=input_layer, outputs=decoder)"
   ]
  },
  {
   "cell_type": "markdown",
   "metadata": {},
   "source": [
    "### Train the Autoencoder Model"
   ]
  },
  {
   "cell_type": "code",
   "execution_count": null,
   "metadata": {},
   "outputs": [],
   "source": [
    "nb_epoch = 100\n",
    "batch_size = 128\n",
    "autoencoder.compile(metrics=['accuracy'],\n",
    "                    loss='mean_squared_error',\n",
    "                    optimizer='adam')\n",
    "\n",
    "checkpointer = ModelCheckpoint(filepath='autoencoder_fraud.h5',\n",
    "                               save_best_only=True,\n",
    "                               verbose=0)\n",
    "\n",
    "tensorboard = TensorBoard(log_dir='./logs',\n",
    "                          histogram_freq=0,\n",
    "                          write_graph=True,\n",
    "                          write_images=True)\n",
    "\n",
    "history = autoencoder.fit(X1_train, X1_train,\n",
    "                          epochs=nb_epoch,\n",
    "                          batch_size=batch_size,\n",
    "                          shuffle=True,\n",
    "                          validation_data=(X1_test, X1_test),\n",
    "                          verbose=1,\n",
    "                          callbacks=[checkpointer, tensorboard]).history\n",
    "load_model('autoencoder_fraud.h5')"
   ]
  },
  {
   "cell_type": "markdown",
   "metadata": {},
   "source": [
    "### Model Evaluation\n"
   ]
  },
  {
   "cell_type": "code",
   "execution_count": null,
   "metadata": {},
   "outputs": [],
   "source": [
    "plt.plot(history['loss'])\n",
    "plt.plot(history['val_loss'])\n",
    "plt.title('model loss')\n",
    "plt.ylabel('loss')\n",
    "plt.xlabel('epoch')\n",
    "plt.legend(['train', 'test'], loc='upper right')"
   ]
  },
  {
   "cell_type": "markdown",
   "metadata": {},
   "source": [
    "### Reconstruction Error\n",
    "\n",
    "Autoencoders are trained to reduce reconstruction error."
   ]
  },
  {
   "cell_type": "code",
   "execution_count": null,
   "metadata": {},
   "outputs": [],
   "source": [
    "predictions = autoencoder.predict(X1_test)\n",
    "mse = np.mean(np.power(X1_test - predictions, 2), axis=1)\n",
    "df_error = pd.DataFrame({'reconstruction_error': mse,\n",
    "                        'true_class': y1_test})\n",
    "df_error.describe()"
   ]
  },
  {
   "cell_type": "markdown",
   "metadata": {},
   "source": [
    "### ROC Curve"
   ]
  },
  {
   "cell_type": "code",
   "execution_count": null,
   "metadata": {},
   "outputs": [],
   "source": [
    "# Import modules\n",
    "\n",
    "from sklearn.metrics import auc, roc_curve,precision_recall_curve\n",
    "from sklearn.metrics import confusion_matrix,classification_report\n",
    "from sklearn.metrics import recall_score,f1_score,precision_recall_fscore_support\n",
    "\n",
    "false_positive_rate, true_positive_rate, thresholds = roc_curve(df_error.true_class, df_error.reconstruction_error)\n",
    "roc_auc = auc(false_positive_rate, true_positive_rate)\n",
    "\n",
    "# Plot the roc curve \n",
    "\n",
    "plot_roc_curve(false_positive_rate,true_positive_rate,roc_auc)"
   ]
  },
  {
   "cell_type": "markdown",
   "metadata": {},
   "source": [
    "### Recall vs. Precision\n",
    "\n",
    "Considering the imbalance of our dataset, we take a look at the Recall vs. Precision trade off."
   ]
  },
  {
   "cell_type": "code",
   "execution_count": null,
   "metadata": {},
   "outputs": [],
   "source": [
    "precision, recall, thresholds = precision_recall_curve(df_error.true_class, df_error.reconstruction_error)\n",
    "\n",
    "# Plot recall precision tradeoff\n",
    "\n",
    "plt.plot(recall, precision, linewidth=5, label='Precision-Recall curve')\n",
    "plt.title('Recall vs Precision')\n",
    "plt.xlabel('Recall')\n",
    "plt.ylabel('Precision')\n",
    "print(plt.show())\n",
    "\n",
    "# Plot precision and recall for different thresholds\n",
    "\n",
    "plt.plot(thresholds, precision[1:], label=\"Precision\",linewidth=5)\n",
    "plt.plot(thresholds, recall[1:], label=\"Recall\",linewidth=5)\n",
    "plt.title('Precision and recall for different threshold values')\n",
    "plt.xlabel('Threshold')\n",
    "plt.ylabel('Precision/Recall')\n",
    "plt.legend()\n",
    "print(plt.show())"
   ]
  },
  {
   "cell_type": "markdown",
   "metadata": {},
   "source": [
    "### Prediction"
   ]
  },
  {
   "cell_type": "code",
   "execution_count": null,
   "metadata": {},
   "outputs": [],
   "source": [
    "# Set a threshold\n",
    "\n",
    "set_threshold = 5\n",
    "groups = df_error.groupby('true_class')\n",
    "fig, ax = plt.subplots()\n",
    "\n",
    "for name, group in groups:\n",
    "    ax.plot(group.index, \n",
    "            group.reconstruction_error, \n",
    "            marker='o', \n",
    "            ms=3.5, \n",
    "            linestyle='',\n",
    "            label= \"Fraud\" if name == 1 else \"Nonfraud\")\n",
    "    \n",
    "ax.hlines(set_threshold, \n",
    "          ax.get_xlim()[0], \n",
    "          ax.get_xlim()[1], \n",
    "          colors=\"r\", \n",
    "          zorder=100, \n",
    "          label='Threshold')\n",
    "\n",
    "ax.legend()\n",
    "plt.title(\"Reconstruction error for different classes\")\n",
    "plt.ylabel(\"Reconstruction error\")\n",
    "plt.xlabel(\"Data point index\")\n",
    "plt.show()"
   ]
  },
  {
   "cell_type": "markdown",
   "metadata": {},
   "source": [
    "### Confusion Matrix"
   ]
  },
  {
   "cell_type": "code",
   "execution_count": null,
   "metadata": {},
   "outputs": [],
   "source": [
    "y_pred = [1 if e > set_threshold else 0 for e in df_error.reconstruction_error.values]\n",
    "print('Confusion_matrix:\\n',confusion_matrix(df_error.true_class, y_pred))"
   ]
  },
  {
   "cell_type": "code",
   "execution_count": null,
   "metadata": {},
   "outputs": [],
   "source": []
  },
  {
   "cell_type": "code",
   "execution_count": null,
   "metadata": {},
   "outputs": [],
   "source": []
  }
 ],
 "metadata": {
  "kernelspec": {
   "display_name": "Python 3",
   "language": "python",
   "name": "python3"
  },
  "language_info": {
   "codemirror_mode": {
    "name": "ipython",
    "version": 3
   },
   "file_extension": ".py",
   "mimetype": "text/x-python",
   "name": "python",
   "nbconvert_exporter": "python",
   "pygments_lexer": "ipython3",
   "version": "3.7.4"
  }
 },
 "nbformat": 4,
 "nbformat_minor": 4
}
